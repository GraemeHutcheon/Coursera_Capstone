{
    "nbformat_minor": 1, 
    "cells": [
        {
            "source": "# Introduction", 
            "cell_type": "markdown", 
            "metadata": {
                "collapsed": true
            }
        }, 
        {
            "source": "We are an international data analysis consultancy company operating out of New York, NY, USA. \n<br>We have been hired by a restuaranteur who runs a successful Vegan Restaurant in NYC and they now wish to expand.\n<br>They need to know where they should expand - on the East Coast, West Coast or start overseas.\n\nThe customer (audience) for the final report is the Vegan Resaurant owner. The report will contain the data and evidence to support the new location. For the restuaranteur more locations means business expansion and more profit since we will be offering the most similar city, which our beleaf will mean busy Vegan restaurant. ", 
            "cell_type": "markdown", 
            "metadata": {}
        }, 
        {
            "source": "# Business Problem", 
            "cell_type": "markdown", 
            "metadata": {}
        }, 
        {
            "source": "Vegans 'R US, has a successful business which has been a consistent making money and is now physically constrained in New York City, NY location.\n<br>To build the business they need to expand and wish to use our analytics to provide a new location instead of picking a new location based on instinct.\n\nThey are currently in the center of Manhattan and they are stating that the suggested new location must be within a 1km radius of each city center. The cities of interest to them are :-\n\n* Montreal, QC, CA\n* Toronto, ON, CA\n* Boston, MA, USA\n* Atlanta, GA, USA\n* New Orleans, LA, USA\n* Seattle, WA, USA\n* Portland, OR, USA\n* San Diego, CA, USA\n* Los Angeles, CA, USA\n* Edinburgh, UK\n* Cardiff, UK\n* Bristol, UK\n* London, UK\n* Paris, FR\n\nGoal is to provide a food category based analysis of these cities and give back the most likely suitable for expansion into.\n\nFoursquare can offer venue information - one of the categories for which you can request data for is Food. This category is then subdivied into Food categories", 
            "cell_type": "markdown", 
            "metadata": {}
        }
    ], 
    "metadata": {
        "kernelspec": {
            "display_name": "Python 3.5", 
            "name": "python3", 
            "language": "python"
        }, 
        "language_info": {
            "mimetype": "text/x-python", 
            "nbconvert_exporter": "python", 
            "version": "3.5.5", 
            "name": "python", 
            "file_extension": ".py", 
            "pygments_lexer": "ipython3", 
            "codemirror_mode": {
                "version": 3, 
                "name": "ipython"
            }
        }
    }, 
    "nbformat": 4
}