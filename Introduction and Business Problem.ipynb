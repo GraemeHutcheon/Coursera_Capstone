{
    "nbformat_minor": 1, 
    "cells": [
        {
            "source": "# Introduction", 
            "cell_type": "markdown", 
            "metadata": {
                "collapsed": true
            }
        }, 
        {
            "source": "We are an international data analysis consultancy company operating out of New York, NY, USA. \n<br>We have been hired by a restuaranteur who runs a successful Vegan Restaurant in NYC and they now wish to expand.\n<br>They need to know where they should expand - on the East Coast, West Coast or start overseas.\n\nThe customer (audience) for the final report is the Vegan Resaurant owner. The report will contain the data and evidence to support the new location. For the restuaranteur more locations means business expansion and more profit since we will be offering the most similar city, which our beleaf will mean busy Vegan restaurant. ", 
            "cell_type": "markdown", 
            "metadata": {}
        }, 
        {
            "source": "# Business Problem", 
            "cell_type": "markdown", 
            "metadata": {}
        }, 
        {
            "source": "Vegans 'R US, has a successful business which has been a consistent making money and is now physically constrained in New York City, NY location.\n<br>To build the business they need to expand and wish to use our analytics to provide a new location instead of picking a new location based on instinct.\n\nThey are currently in the center of Manhattan and they are stating that the suggested new location must be within a 1km radius of each city center. The cities of interest to them are :-\n\n* Montreal, QC, CA\n* Toronto, ON, CA\n* Boston, MA, USA\n* Atlanta, GA, USA\n* New Orleans, LA, USA\n* Seattle, WA, USA\n* Portland, OR, USA\n* San Diego, CA, USA\n* Los Angeles, CA, USA\n* Edinburgh, UK\n* Cardiff, UK\n* Bristol, UK\n* London, UK\n* Paris, FR\n\nGoal is to provide a food category based analysis of these cities and give back the most likely suitable for expansion into.\n\nFoursquare can offer venue information - one of the categories for which you can request data for is Food. This category is then subdivied into Food categories\n\neg Sample Food Venue returned from -\n```\n\nhttps://api.foursquare.com/v2/venues/search?client_id=XXX&client_secret=XXX&ll=40.7149555,-74.0153365&v=20180604&categoryId=4d4b7105d754a06374d81259&radius=1000&limit=3\n\n```\nSample Response\n```\n\n{'id': '5accb33d2c7eb96824340d53',\n    'name': 'Seamore\u2019s',\n    'location': {'address': '230 Vesey St',\n     'lat': 40.71424164376645,\n     'lng': -74.01508537789734,\n     'labeledLatLngs': [{'label': 'display',\n       'lat': 40.71424164376645,\n       'lng': -74.01508537789734}],\n     'distance': 82,\n     'postalCode': '10285',\n     'cc': 'US',\n     'city': 'New York',\n     'state': 'NY',\n     'country': 'United States',\n     'formattedAddress': ['230 Vesey St',\n      'New York, NY 10285',\n      'United States']},\n    'categories': [{'id': '4bf58dd8d48988d1ce941735',\n      'name': 'Seafood Restaurant',\n      'pluralName': 'Seafood Restaurants',\n      'shortName': 'Seafood',\n      'icon': {'prefix': 'https://ss3.4sqi.net/img/categories_v2/food/seafood_',\n       'suffix': '.png'},\n      'primary': True}],\n    'delivery': {'id': '884804',\n     'url': 'https://www.seamless.com/menu/seamores-250-vesey-st-new-york/884804?affiliate=1131&utm_source=foursquare-affiliate-network&utm_medium=affiliate&utm_campaign=1131&utm_content=884804',\n     'provider': {'name': 'seamless',\n      'icon': {'prefix': 'https://fastly.4sqi.net/img/general/cap/',\n       'sizes': [40, 50],\n       'name': '/delivery_provider_seamless_20180129.png'}}},\n    'referralId': 'v-1545921117',\n    'hasPerk': False},\n```\n\nInteresting Features for us are the **categories** in the above sample case - **Seafood Restaurant**", 
            "cell_type": "markdown", 
            "metadata": {}
        }
    ], 
    "metadata": {
        "kernelspec": {
            "display_name": "Python 3.5", 
            "name": "python3", 
            "language": "python"
        }, 
        "language_info": {
            "mimetype": "text/x-python", 
            "nbconvert_exporter": "python", 
            "version": "3.5.5", 
            "name": "python", 
            "file_extension": ".py", 
            "pygments_lexer": "ipython3", 
            "codemirror_mode": {
                "version": 3, 
                "name": "ipython"
            }
        }
    }, 
    "nbformat": 4
}