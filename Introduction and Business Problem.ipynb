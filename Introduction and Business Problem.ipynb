{
    "nbformat_minor": 1, 
    "cells": [
        {
            "source": "# Introduction", 
            "cell_type": "markdown", 
            "metadata": {
                "collapsed": true
            }
        }, 
        {
            "source": "We are an international data analysis consultancy company operating from New York, NY, USA. \n<br>We have been approached by a restuaranteur who runs a successful Vegan Restaurant in NYC and they now wish to expand.\n<br>They would like to know if they should expand on the East Coast, West Coast or start overseas.", 
            "cell_type": "markdown", 
            "metadata": {}
        }, 
        {
            "source": "# Business Problem", 
            "cell_type": "markdown", 
            "metadata": {}
        }, 
        {
            "source": "Vegans 'R US, has a successful business which has been constant but yet not expanding for Vegan food in New York City, NY.\n<br>To build the business they need to expand and wish to use our analytics to provide a new location.\n\nThey are currently in the center of Manhattan and they are stating that the suggested new location must be within a 1km radius of each city center.\n\nCities Of Interest are\n* Montreal, QC, CA\n* Toronto, ON, CA\n* Boston, MA, USA\n* Atlanta, GA, USA\n* New Orleans, LA, USA\n* Seatle, WA, USA\n* Portland, OR, USA\n* San Deago, CA, USA\n* Los Angeles, CA, USA\n* Edinburgh, UK\n* Cardiff, UK\n* Bristol, UK\n* London, UK\n* Paris, FR\n\nGoal is to provide a restaurant analysis of these cities", 
            "cell_type": "markdown", 
            "metadata": {}
        }
    ], 
    "metadata": {
        "kernelspec": {
            "display_name": "Python 3.5", 
            "name": "python3", 
            "language": "python"
        }, 
        "language_info": {
            "mimetype": "text/x-python", 
            "nbconvert_exporter": "python", 
            "version": "3.5.5", 
            "name": "python", 
            "file_extension": ".py", 
            "pygments_lexer": "ipython3", 
            "codemirror_mode": {
                "version": 3, 
                "name": "ipython"
            }
        }
    }, 
    "nbformat": 4
}