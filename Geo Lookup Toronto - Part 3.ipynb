{
    "nbformat_minor": 1, 
    "cells": [
        {
            "source": "# Import the Libraries Needed", 
            "cell_type": "markdown", 
            "metadata": {}
        }, 
        {
            "source": "import pandas as pd\nimport numpy as np\n\nfrom bs4 import BeautifulSoup\nimport requests\n\nr  = requests.get(\"https://en.wikipedia.org/wiki/List_of_postal_codes_of_Canada:_M\")\n\ndata = r.text\n\nsoup = BeautifulSoup(data, 'html.parser')", 
            "cell_type": "code", 
            "metadata": {}, 
            "outputs": [], 
            "execution_count": 44
        }, 
        {
            "source": "# Go Grab the table and pull the pieces out with Soup\n\nFind the useful table\nWork through each row\n    - If the row has Not Assigned as a Borough - move on\n    - If the row has no Neighborhood but a Borough - copy the Neighborhood\nSave the dict into a dataframe\n\nNow we have a dataframe but multiple rows per PostalCode and Borough", 
            "cell_type": "markdown", 
            "metadata": {}
        }, 
        {
            "source": "table = soup.find( \"table\", {\"class\":\"wikitable sortable\"} )\n\ntd = table.findAll('tr')[1:]\n\nhoods = []\n\nfor data in td:\n    col = data.find_all('td')\n    details = {}\n    for i,col in enumerate(col):\n        if i == 1:\n            details['Borough'] = (col.text.replace('\\n',''))\n            if details['Borough'] == 'Not assigned':\n                break\n        if i == 0:\n            details['PostalCode'] = (col.text.replace('\\n',''))\n        if i == 2: \n            details['Neighborhood'] = (col.text.replace('\\n',''))\n            if details['Neighborhood'] == 'Not assigned':\n                details['Neighborhood'] = details['Borough']\n            hoods.append(details)\n\ndf=pd.DataFrame(hoods)\ndf=df[['PostalCode','Borough','Neighborhood']]\ndf.head()", 
            "cell_type": "code", 
            "metadata": {
                "scrolled": true
            }, 
            "outputs": [
                {
                    "output_type": "execute_result", 
                    "data": {
                        "text/plain": "  PostalCode           Borough      Neighborhood\n0        M3A        North York         Parkwoods\n1        M4A        North York  Victoria Village\n2        M5A  Downtown Toronto      Harbourfront\n3        M5A  Downtown Toronto       Regent Park\n4        M6A        North York  Lawrence Heights", 
                        "text/html": "<div>\n<style scoped>\n    .dataframe tbody tr th:only-of-type {\n        vertical-align: middle;\n    }\n\n    .dataframe tbody tr th {\n        vertical-align: top;\n    }\n\n    .dataframe thead th {\n        text-align: right;\n    }\n</style>\n<table border=\"1\" class=\"dataframe\">\n  <thead>\n    <tr style=\"text-align: right;\">\n      <th></th>\n      <th>PostalCode</th>\n      <th>Borough</th>\n      <th>Neighborhood</th>\n    </tr>\n  </thead>\n  <tbody>\n    <tr>\n      <th>0</th>\n      <td>M3A</td>\n      <td>North York</td>\n      <td>Parkwoods</td>\n    </tr>\n    <tr>\n      <th>1</th>\n      <td>M4A</td>\n      <td>North York</td>\n      <td>Victoria Village</td>\n    </tr>\n    <tr>\n      <th>2</th>\n      <td>M5A</td>\n      <td>Downtown Toronto</td>\n      <td>Harbourfront</td>\n    </tr>\n    <tr>\n      <th>3</th>\n      <td>M5A</td>\n      <td>Downtown Toronto</td>\n      <td>Regent Park</td>\n    </tr>\n    <tr>\n      <th>4</th>\n      <td>M6A</td>\n      <td>North York</td>\n      <td>Lawrence Heights</td>\n    </tr>\n  </tbody>\n</table>\n</div>"
                    }, 
                    "execution_count": 45, 
                    "metadata": {}
                }
            ], 
            "execution_count": 45
        }, 
        {
            "source": "# Use Group by to do the work of concatinating the like Boroughs together", 
            "cell_type": "markdown", 
            "metadata": {}
        }, 
        {
            "source": "dfn=df.groupby(['PostalCode','Borough'])['Neighborhood'].apply(','.join).reset_index()\ndfn.head()", 
            "cell_type": "code", 
            "metadata": {}, 
            "outputs": [
                {
                    "output_type": "execute_result", 
                    "data": {
                        "text/plain": "  PostalCode      Borough                          Neighborhood\n0        M1B  Scarborough                         Rouge,Malvern\n1        M1C  Scarborough  Highland Creek,Rouge Hill,Port Union\n2        M1E  Scarborough       Guildwood,Morningside,West Hill\n3        M1G  Scarborough                                Woburn\n4        M1H  Scarborough                             Cedarbrae", 
                        "text/html": "<div>\n<style scoped>\n    .dataframe tbody tr th:only-of-type {\n        vertical-align: middle;\n    }\n\n    .dataframe tbody tr th {\n        vertical-align: top;\n    }\n\n    .dataframe thead th {\n        text-align: right;\n    }\n</style>\n<table border=\"1\" class=\"dataframe\">\n  <thead>\n    <tr style=\"text-align: right;\">\n      <th></th>\n      <th>PostalCode</th>\n      <th>Borough</th>\n      <th>Neighborhood</th>\n    </tr>\n  </thead>\n  <tbody>\n    <tr>\n      <th>0</th>\n      <td>M1B</td>\n      <td>Scarborough</td>\n      <td>Rouge,Malvern</td>\n    </tr>\n    <tr>\n      <th>1</th>\n      <td>M1C</td>\n      <td>Scarborough</td>\n      <td>Highland Creek,Rouge Hill,Port Union</td>\n    </tr>\n    <tr>\n      <th>2</th>\n      <td>M1E</td>\n      <td>Scarborough</td>\n      <td>Guildwood,Morningside,West Hill</td>\n    </tr>\n    <tr>\n      <th>3</th>\n      <td>M1G</td>\n      <td>Scarborough</td>\n      <td>Woburn</td>\n    </tr>\n    <tr>\n      <th>4</th>\n      <td>M1H</td>\n      <td>Scarborough</td>\n      <td>Cedarbrae</td>\n    </tr>\n  </tbody>\n</table>\n</div>"
                    }, 
                    "execution_count": 46, 
                    "metadata": {}
                }
            ], 
            "execution_count": 46
        }, 
        {
            "source": "# Displaying the Shape of the Final Dataset", 
            "cell_type": "markdown", 
            "metadata": {}
        }, 
        {
            "source": "dfn.shape", 
            "cell_type": "code", 
            "metadata": {
                "scrolled": true
            }, 
            "outputs": [
                {
                    "output_type": "execute_result", 
                    "data": {
                        "text/plain": "(103, 3)"
                    }, 
                    "execution_count": 47, 
                    "metadata": {}
                }
            ], 
            "execution_count": 47
        }, 
        {
            "source": "# Adding GEO data\n\nDowload spreadsheet into dataframe\nThe URL is dynamic and needs to be updated daily", 
            "cell_type": "markdown", 
            "metadata": {}
        }, 
        {
            "source": "geo_data=pd.read_csv('https://dl.boxcloud.com/d/1/b1!pxBBFvFlM9dQhZanCBkZlKyy89CAH1-0iNeH-PdGzw3ISE236ntLQxOwgg08xtuZUo40wsCzV5Q6uw9Dimf6tGcAFI06MYGl3WeEgYJlCVv76LTjHTHCKvGQ_ogUBlMmVFY_EwRsPrMrSGDqiIWBod731uVzlSfYD74fLoaSDpFB5Qv6zOP0twQjekQbnd6CdRaAvV1kydDhgMEt0AMD4yv2HIWQBFGiuxOsqyVsY8Ipa-uRDqXXYq7TCA4FdzEvg5khzuhL9a9_9uYpc-jDsjlB_7h8qurf6usSLPzKoQAEoAgJAEZeNAhAw3ttbQiHP9yP1ZwSLFm03MzNPvWUD5GXM5cJI7nXU6nhfEs0VBT7r5DNI_orDHGoLe9HhMrb4F6tXNcFoXvDA6Eg-Cab6h2XnExMAVcP5Q3YAFg_KAgboG8llQu4clZjFaCUjb341_NdoLrxG1SIVqv5Bl3BiMt6roE6EQdqhslFLDxUVeZV4zg25FW8Rv1T-LHEI9iIS0OYhIUloLymfPUytQBZ45F9Ar0QNWmzcEeZ-1WYvUfeNKURl494a_be-cL8YJwJ4T5pgpPNqkXEzll-lTGZlY6ftEwvja437Dwf8Gso6Bd21FoEqUF4QhTm2GAIL-Po3LC-C4hGGbQ4RSXWq_MQrEGyS7mTIjf6RdH_5Ck_R1vDU7U1irB7Zmj0qeO4ZTSRtb-QpIP9dhBKVvTYyktTQhsw-cH6TNCHDKwNLStQbG2AWzZgYGHWRi_k_IEA-VzaYaV3ZJZSszBghWSPHX8nyf03KrrKuwTLURx8-N-oPQHNKh7LcxucY4rJxJz1l-kab-gpTx2inGdvv3myd634HzG0wE2taQSzlzB0wPn1-3d_16fpwuoDmHFQgsL5vL3OgRsL5hNhjdw0GmN3Loe2KUP3RLsZckzJSTBxVqpw8kZwUS6UMIIS3D46D6bhHiZ6NZFEwt9_46jckEeFL7Rv1k0cT9pSdam5IGKsGphLKsgdv0MMEV4bzOgD4voKFrRexEJI-KHyQaIWfzgXWw7HMKWxFwzoFwrqpIXr-48hrW4ZmkpybyrhIcDjbBPPYd7jdma2bhe4Wlx-Sz5HDxnJEiwehqLUO0Oe7FYDb-iY7zIBlbJE0vopd2QvKVtHtLti2HWi5jutVuCEF_wiv266YHXNZd2A-dI5pZh730hSZCM1IYuSmoIFoWqbllPup42Dyy0CO8WaROq_u0smHOX5RNnU3JfqZAW2Vdbm1ItyNnqAu7LmUYv3QBmry5We_iM6EC286P9RCmJ3glvOkjgxxDVPpDEPEHtkkX1a0duDXeTGeEtTtzrkfUUSZ9zSNQCR5cWXqDG1zyYU-3fOB_E3Wk-7Bt32k2CgqAHMZ2PvDiYqTHjDlb-VNt9SWNNRJ6C5/download')\nprint(geo_data.shape)\ngeo_data.head()", 
            "cell_type": "code", 
            "metadata": {
                "scrolled": false
            }, 
            "outputs": [
                {
                    "output_type": "stream", 
                    "name": "stdout", 
                    "text": "(103, 3)\n"
                }, 
                {
                    "output_type": "execute_result", 
                    "data": {
                        "text/plain": "  Postal Code   Latitude  Longitude\n0         M1B  43.806686 -79.194353\n1         M1C  43.784535 -79.160497\n2         M1E  43.763573 -79.188711\n3         M1G  43.770992 -79.216917\n4         M1H  43.773136 -79.239476", 
                        "text/html": "<div>\n<style scoped>\n    .dataframe tbody tr th:only-of-type {\n        vertical-align: middle;\n    }\n\n    .dataframe tbody tr th {\n        vertical-align: top;\n    }\n\n    .dataframe thead th {\n        text-align: right;\n    }\n</style>\n<table border=\"1\" class=\"dataframe\">\n  <thead>\n    <tr style=\"text-align: right;\">\n      <th></th>\n      <th>Postal Code</th>\n      <th>Latitude</th>\n      <th>Longitude</th>\n    </tr>\n  </thead>\n  <tbody>\n    <tr>\n      <th>0</th>\n      <td>M1B</td>\n      <td>43.806686</td>\n      <td>-79.194353</td>\n    </tr>\n    <tr>\n      <th>1</th>\n      <td>M1C</td>\n      <td>43.784535</td>\n      <td>-79.160497</td>\n    </tr>\n    <tr>\n      <th>2</th>\n      <td>M1E</td>\n      <td>43.763573</td>\n      <td>-79.188711</td>\n    </tr>\n    <tr>\n      <th>3</th>\n      <td>M1G</td>\n      <td>43.770992</td>\n      <td>-79.216917</td>\n    </tr>\n    <tr>\n      <th>4</th>\n      <td>M1H</td>\n      <td>43.773136</td>\n      <td>-79.239476</td>\n    </tr>\n  </tbody>\n</table>\n</div>"
                    }, 
                    "execution_count": 49, 
                    "metadata": {}
                }
            ], 
            "execution_count": 49
        }, 
        {
            "source": "alldata=pd.merge(dfn, geo_data, how='left', left_on=['PostalCode'], right_on=['Postal Code'],\n         left_index=False, right_index=False, sort=True,\n         suffixes=('_x', '_y'), copy=True, indicator=False,\n         validate=None)\nprint(alldata.shape)\nalldata.head()", 
            "cell_type": "code", 
            "metadata": {}, 
            "outputs": [
                {
                    "output_type": "stream", 
                    "name": "stdout", 
                    "text": "(103, 6)\n"
                }, 
                {
                    "output_type": "execute_result", 
                    "data": {
                        "text/plain": "  PostalCode      Borough                          Neighborhood Postal Code  \\\n0        M1B  Scarborough                         Rouge,Malvern         M1B   \n1        M1C  Scarborough  Highland Creek,Rouge Hill,Port Union         M1C   \n2        M1E  Scarborough       Guildwood,Morningside,West Hill         M1E   \n3        M1G  Scarborough                                Woburn         M1G   \n4        M1H  Scarborough                             Cedarbrae         M1H   \n\n    Latitude  Longitude  \n0  43.806686 -79.194353  \n1  43.784535 -79.160497  \n2  43.763573 -79.188711  \n3  43.770992 -79.216917  \n4  43.773136 -79.239476  ", 
                        "text/html": "<div>\n<style scoped>\n    .dataframe tbody tr th:only-of-type {\n        vertical-align: middle;\n    }\n\n    .dataframe tbody tr th {\n        vertical-align: top;\n    }\n\n    .dataframe thead th {\n        text-align: right;\n    }\n</style>\n<table border=\"1\" class=\"dataframe\">\n  <thead>\n    <tr style=\"text-align: right;\">\n      <th></th>\n      <th>PostalCode</th>\n      <th>Borough</th>\n      <th>Neighborhood</th>\n      <th>Postal Code</th>\n      <th>Latitude</th>\n      <th>Longitude</th>\n    </tr>\n  </thead>\n  <tbody>\n    <tr>\n      <th>0</th>\n      <td>M1B</td>\n      <td>Scarborough</td>\n      <td>Rouge,Malvern</td>\n      <td>M1B</td>\n      <td>43.806686</td>\n      <td>-79.194353</td>\n    </tr>\n    <tr>\n      <th>1</th>\n      <td>M1C</td>\n      <td>Scarborough</td>\n      <td>Highland Creek,Rouge Hill,Port Union</td>\n      <td>M1C</td>\n      <td>43.784535</td>\n      <td>-79.160497</td>\n    </tr>\n    <tr>\n      <th>2</th>\n      <td>M1E</td>\n      <td>Scarborough</td>\n      <td>Guildwood,Morningside,West Hill</td>\n      <td>M1E</td>\n      <td>43.763573</td>\n      <td>-79.188711</td>\n    </tr>\n    <tr>\n      <th>3</th>\n      <td>M1G</td>\n      <td>Scarborough</td>\n      <td>Woburn</td>\n      <td>M1G</td>\n      <td>43.770992</td>\n      <td>-79.216917</td>\n    </tr>\n    <tr>\n      <th>4</th>\n      <td>M1H</td>\n      <td>Scarborough</td>\n      <td>Cedarbrae</td>\n      <td>M1H</td>\n      <td>43.773136</td>\n      <td>-79.239476</td>\n    </tr>\n  </tbody>\n</table>\n</div>"
                    }, 
                    "execution_count": 50, 
                    "metadata": {}
                }
            ], 
            "execution_count": 50
        }, 
        {
            "source": "# KNN Analysis Section\nFist import the needed Libraries", 
            "cell_type": "markdown", 
            "metadata": {}
        }, 
        {
            "source": "!conda install -c conda-forge geopy --yes # uncomment this line if you haven't completed the Foursquare API lab\nfrom geopy.geocoders import Nominatim # convert an address into latitude and longitude values\n\n!conda install -c conda-forge folium=0.5.0 --yes # uncomment this line if you haven't completed the Foursquare API lab\nimport folium # map rendering library", 
            "cell_type": "code", 
            "metadata": {}, 
            "outputs": [
                {
                    "output_type": "stream", 
                    "name": "stdout", 
                    "text": "Fetching package metadata .............\nSolving package specifications: .\n\n# All requested packages already installed.\n# packages in environment at /opt/conda/envs/DSX-Python35:\n#\ngeopy                     1.17.0                     py_0    conda-forge\nFetching package metadata .............\nSolving package specifications: .\n\n# All requested packages already installed.\n# packages in environment at /opt/conda/envs/DSX-Python35:\n#\nfolium                    0.5.0                      py_0    conda-forge\n"
                }
            ], 
            "execution_count": 51
        }, 
        {
            "source": "## Fist cut down the number of neighborhoods researched to ones with Toronto in the name", 
            "cell_type": "markdown", 
            "metadata": {}
        }, 
        {
            "source": "analysis_data=alldata[alldata['Neighborhood'].str.contains(\"Toronto\")]\nprint (analysis_data.shape)\nanalysis_data.head()", 
            "cell_type": "code", 
            "metadata": {
                "scrolled": false
            }, 
            "outputs": [
                {
                    "output_type": "stream", 
                    "name": "stdout", 
                    "text": "(7, 6)\n"
                }, 
                {
                    "output_type": "execute_result", 
                    "data": {
                        "text/plain": "   PostalCode           Borough  \\\n30        M3K        North York   \n40        M4J         East York   \n46        M4R   Central Toronto   \n59        M5J  Downtown Toronto   \n60        M5K  Downtown Toronto   \n\n                                       Neighborhood Postal Code   Latitude  \\\n30                       CFB Toronto,Downsview East         M3K  43.737473   \n40                                     East Toronto         M4J  43.685347   \n46                               North Toronto West         M4R  43.715383   \n59  Harbourfront East,Toronto Islands,Union Station         M5J  43.640816   \n60          Design Exchange,Toronto Dominion Centre         M5K  43.647177   \n\n    Longitude  \n30 -79.464763  \n40 -79.338106  \n46 -79.405678  \n59 -79.381752  \n60 -79.381576  ", 
                        "text/html": "<div>\n<style scoped>\n    .dataframe tbody tr th:only-of-type {\n        vertical-align: middle;\n    }\n\n    .dataframe tbody tr th {\n        vertical-align: top;\n    }\n\n    .dataframe thead th {\n        text-align: right;\n    }\n</style>\n<table border=\"1\" class=\"dataframe\">\n  <thead>\n    <tr style=\"text-align: right;\">\n      <th></th>\n      <th>PostalCode</th>\n      <th>Borough</th>\n      <th>Neighborhood</th>\n      <th>Postal Code</th>\n      <th>Latitude</th>\n      <th>Longitude</th>\n    </tr>\n  </thead>\n  <tbody>\n    <tr>\n      <th>30</th>\n      <td>M3K</td>\n      <td>North York</td>\n      <td>CFB Toronto,Downsview East</td>\n      <td>M3K</td>\n      <td>43.737473</td>\n      <td>-79.464763</td>\n    </tr>\n    <tr>\n      <th>40</th>\n      <td>M4J</td>\n      <td>East York</td>\n      <td>East Toronto</td>\n      <td>M4J</td>\n      <td>43.685347</td>\n      <td>-79.338106</td>\n    </tr>\n    <tr>\n      <th>46</th>\n      <td>M4R</td>\n      <td>Central Toronto</td>\n      <td>North Toronto West</td>\n      <td>M4R</td>\n      <td>43.715383</td>\n      <td>-79.405678</td>\n    </tr>\n    <tr>\n      <th>59</th>\n      <td>M5J</td>\n      <td>Downtown Toronto</td>\n      <td>Harbourfront East,Toronto Islands,Union Station</td>\n      <td>M5J</td>\n      <td>43.640816</td>\n      <td>-79.381752</td>\n    </tr>\n    <tr>\n      <th>60</th>\n      <td>M5K</td>\n      <td>Downtown Toronto</td>\n      <td>Design Exchange,Toronto Dominion Centre</td>\n      <td>M5K</td>\n      <td>43.647177</td>\n      <td>-79.381576</td>\n    </tr>\n  </tbody>\n</table>\n</div>"
                    }, 
                    "execution_count": 52, 
                    "metadata": {}
                }
            ], 
            "execution_count": 52
        }, 
        {
            "source": "## Find Our Starting Location", 
            "cell_type": "markdown", 
            "metadata": {}
        }, 
        {
            "source": "\naddress = 'Toronto, ON, Canada'\n\ngeolocator = Nominatim()\nlocation = geolocator.geocode(address)\nlatitude = location.latitude\nlongitude = location.longitude\nprint('The geograpical coordinate of Toronto are {}, {}.'.format(latitude, longitude))", 
            "cell_type": "code", 
            "metadata": {}, 
            "outputs": [
                {
                    "output_type": "stream", 
                    "name": "stdout", 
                    "text": "The geograpical coordinate of Toronto are 43.653963, -79.387207.\n"
                }
            ], 
            "execution_count": 53
        }, 
        {
            "source": "## Create map around the starting location and add in the neighborhoods", 
            "cell_type": "markdown", 
            "metadata": {}
        }, 
        {
            "source": "# create map of Toronto using latitude and longitude values\nmap_toronto = folium.Map(location=[latitude, longitude], zoom_start=12)\n\n# add markers to map\nfor lat, lng, borough, neighborhood in zip(analysis_data['Latitude'], analysis_data['Longitude'], analysis_data['Borough'], analysis_data['Neighborhood']):\n    label = '{}, {}'.format(neighborhood, borough)\n    label = folium.Popup(label, parse_html=True)\n    folium.CircleMarker(\n        [lat, lng],\n        radius=5,\n        popup=label,\n        color='blue',\n        fill=True,\n        fill_color='#3186cc',\n        fill_opacity=0.7,\n        parse_html=False).add_to(map_toronto)  \n    \nmap_toronto", 
            "cell_type": "code", 
            "metadata": {
                "scrolled": false
            }, 
            "outputs": [
                {
                    "output_type": "execute_result", 
                    "data": {
                        "text/plain": "<folium.folium.Map at 0x2aef8fddc438>", 
                        "text/html": "<div style=\"width:100%;\"><div style=\"position:relative;width:100%;height:0;padding-bottom:60%;\"><iframe src=\"data:text/html;charset=utf-8;base64,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\" style=\"position:absolute;width:100%;height:100%;left:0;top:0;border:none !important;\" allowfullscreen webkitallowfullscreen mozallowfullscreen></iframe></div></div>"
                    }, 
                    "execution_count": 54, 
                    "metadata": {}
                }
            ], 
            "execution_count": 54
        }, 
        {
            "source": "## Setup to use Foursquare", 
            "cell_type": "markdown", 
            "metadata": {}
        }, 
        {
            "source": "radius=500\nLIMIT=100\nCLIENT_ID = 'XXXX' # your Foursquare ID\nCLIENT_SECRET = 'XXX' # your Foursquare Secret\nVERSION = '20180605' # Foursquare API version\n\nprint('Your credentails:')\nprint('CLIENT_ID: ' + CLIENT_ID)\nprint('CLIENT_SECRET:' + CLIENT_SECRET)", 
            "cell_type": "code", 
            "metadata": {}, 
            "outputs": [
                {
                    "output_type": "stream", 
                    "name": "stdout", 
                    "text": "Your credentails:\nCLIENT_ID: B5KCB5H4CDDAACTXUEM0AFKZNN0WVT2YSP0AFHUAV25Q1XLJ\nCLIENT_SECRET:BXOF0EESEO0P4RW1AYQWCU1BOEHE4RDUZU25MQAITDMZCPFX\n"
                }
            ], 
            "execution_count": 55
        }, 
        {
            "source": "## Make it easy to call Foursquare for each Neighborhood", 
            "cell_type": "markdown", 
            "metadata": {}
        }, 
        {
            "source": "def getNearbyVenues(names, latitudes, longitudes, radius=500):\n    \n    venues_list=[]\n    for name, lat, lng in zip(names, latitudes, longitudes):\n        print(name)\n            \n        # create the API request URL\n        url = 'https://api.foursquare.com/v2/venues/explore?&client_id={}&client_secret={}&v={}&ll={},{}&radius={}&limit={}'.format(\n            CLIENT_ID, \n            CLIENT_SECRET, \n            VERSION, \n            lat, \n            lng, \n            radius, \n            LIMIT)\n            \n        # make the GET request\n        results = requests.get(url).json()[\"response\"]['groups'][0]['items']\n        \n        # return only relevant information for each nearby venue\n        venues_list.append([(\n            name, \n            lat, \n            lng, \n            v['venue']['name'], \n            v['venue']['location']['lat'], \n            v['venue']['location']['lng'],  \n            v['venue']['categories'][0]['name']) for v in results])\n\n    nearby_venues = pd.DataFrame([item for venue_list in venues_list for item in venue_list])\n    nearby_venues.columns = ['Neighborhood', \n                  'Neighborhood Latitude', \n                  'Neighborhood Longitude', \n                  'Venue', \n                  'Venue Latitude', \n                  'Venue Longitude', \n                  'Venue Category']\n    \n    return(nearby_venues)", 
            "cell_type": "code", 
            "metadata": {}, 
            "outputs": [], 
            "execution_count": 56
        }, 
        {
            "source": "## Get the data for each Neighborhood", 
            "cell_type": "markdown", 
            "metadata": {}
        }, 
        {
            "source": "toronto_venues = getNearbyVenues(names=analysis_data['Neighborhood'], latitudes=analysis_data['Latitude'], longitudes=analysis_data['Longitude'])\nprint(toronto_venues.shape)\ntoronto_venues.head()", 
            "cell_type": "code", 
            "metadata": {
                "scrolled": true
            }, 
            "outputs": [
                {
                    "output_type": "stream", 
                    "name": "stdout", 
                    "text": "CFB Toronto,Downsview East\nEast Toronto\nNorth Toronto West\nHarbourfront East,Toronto Islands,Union Station\nDesign Exchange,Toronto Dominion Centre\nHarbord,University of Toronto\nHumber Bay Shores,Mimico South,New Toronto\n(271, 7)\n"
                }, 
                {
                    "output_type": "execute_result", 
                    "data": {
                        "text/plain": "                 Neighborhood  Neighborhood Latitude  Neighborhood Longitude  \\\n0  CFB Toronto,Downsview East              43.737473              -79.464763   \n1  CFB Toronto,Downsview East              43.737473              -79.464763   \n2  CFB Toronto,Downsview East              43.737473              -79.464763   \n3                East Toronto              43.685347              -79.338106   \n4                East Toronto              43.685347              -79.338106   \n\n                             Venue  Venue Latitude  Venue Longitude  \\\n0  Toronto Downsview Airport (YZD)       43.738883       -79.470111   \n1         Ttc Bus #120 - Plewes Rd       43.734898       -79.464221   \n2                    Ancaster Park       43.733724       -79.465528   \n3                         The Path       43.683923       -79.335007   \n4               Sammon Convenience       43.686951       -79.335007   \n\n      Venue Category  \n0            Airport  \n1           Bus Stop  \n2               Park  \n3               Park  \n4  Convenience Store  ", 
                        "text/html": "<div>\n<style scoped>\n    .dataframe tbody tr th:only-of-type {\n        vertical-align: middle;\n    }\n\n    .dataframe tbody tr th {\n        vertical-align: top;\n    }\n\n    .dataframe thead th {\n        text-align: right;\n    }\n</style>\n<table border=\"1\" class=\"dataframe\">\n  <thead>\n    <tr style=\"text-align: right;\">\n      <th></th>\n      <th>Neighborhood</th>\n      <th>Neighborhood Latitude</th>\n      <th>Neighborhood Longitude</th>\n      <th>Venue</th>\n      <th>Venue Latitude</th>\n      <th>Venue Longitude</th>\n      <th>Venue Category</th>\n    </tr>\n  </thead>\n  <tbody>\n    <tr>\n      <th>0</th>\n      <td>CFB Toronto,Downsview East</td>\n      <td>43.737473</td>\n      <td>-79.464763</td>\n      <td>Toronto Downsview Airport (YZD)</td>\n      <td>43.738883</td>\n      <td>-79.470111</td>\n      <td>Airport</td>\n    </tr>\n    <tr>\n      <th>1</th>\n      <td>CFB Toronto,Downsview East</td>\n      <td>43.737473</td>\n      <td>-79.464763</td>\n      <td>Ttc Bus #120 - Plewes Rd</td>\n      <td>43.734898</td>\n      <td>-79.464221</td>\n      <td>Bus Stop</td>\n    </tr>\n    <tr>\n      <th>2</th>\n      <td>CFB Toronto,Downsview East</td>\n      <td>43.737473</td>\n      <td>-79.464763</td>\n      <td>Ancaster Park</td>\n      <td>43.733724</td>\n      <td>-79.465528</td>\n      <td>Park</td>\n    </tr>\n    <tr>\n      <th>3</th>\n      <td>East Toronto</td>\n      <td>43.685347</td>\n      <td>-79.338106</td>\n      <td>The Path</td>\n      <td>43.683923</td>\n      <td>-79.335007</td>\n      <td>Park</td>\n    </tr>\n    <tr>\n      <th>4</th>\n      <td>East Toronto</td>\n      <td>43.685347</td>\n      <td>-79.338106</td>\n      <td>Sammon Convenience</td>\n      <td>43.686951</td>\n      <td>-79.335007</td>\n      <td>Convenience Store</td>\n    </tr>\n  </tbody>\n</table>\n</div>"
                    }, 
                    "execution_count": 57, 
                    "metadata": {}
                }
            ], 
            "execution_count": 57
        }, 
        {
            "source": "## Review and see how much data we have for each Neighborhood", 
            "cell_type": "markdown", 
            "metadata": {}
        }, 
        {
            "source": "toronto_venues.groupby('Neighborhood').count()\n# print('There are {} uniques categories.'.format(len(toronto_venues['Venue Category'].unique())))", 
            "cell_type": "code", 
            "metadata": {
                "scrolled": true
            }, 
            "outputs": [
                {
                    "output_type": "execute_result", 
                    "data": {
                        "text/plain": "                                                 Neighborhood Latitude  \\\nNeighborhood                                                             \nCFB Toronto,Downsview East                                           3   \nDesign Exchange,Toronto Dominion Centre                            100   \nEast Toronto                                                         3   \nHarbord,University of Toronto                                       34   \nHarbourfront East,Toronto Islands,Union Station                    100   \nHumber Bay Shores,Mimico South,New Toronto                          12   \nNorth Toronto West                                                  19   \n\n                                                 Neighborhood Longitude  \\\nNeighborhood                                                              \nCFB Toronto,Downsview East                                            3   \nDesign Exchange,Toronto Dominion Centre                             100   \nEast Toronto                                                          3   \nHarbord,University of Toronto                                        34   \nHarbourfront East,Toronto Islands,Union Station                     100   \nHumber Bay Shores,Mimico South,New Toronto                           12   \nNorth Toronto West                                                   19   \n\n                                                 Venue  Venue Latitude  \\\nNeighborhood                                                             \nCFB Toronto,Downsview East                           3               3   \nDesign Exchange,Toronto Dominion Centre            100             100   \nEast Toronto                                         3               3   \nHarbord,University of Toronto                       34              34   \nHarbourfront East,Toronto Islands,Union Station    100             100   \nHumber Bay Shores,Mimico South,New Toronto          12              12   \nNorth Toronto West                                  19              19   \n\n                                                 Venue Longitude  \\\nNeighborhood                                                       \nCFB Toronto,Downsview East                                     3   \nDesign Exchange,Toronto Dominion Centre                      100   \nEast Toronto                                                   3   \nHarbord,University of Toronto                                 34   \nHarbourfront East,Toronto Islands,Union Station              100   \nHumber Bay Shores,Mimico South,New Toronto                    12   \nNorth Toronto West                                            19   \n\n                                                 Venue Category  \nNeighborhood                                                     \nCFB Toronto,Downsview East                                    3  \nDesign Exchange,Toronto Dominion Centre                     100  \nEast Toronto                                                  3  \nHarbord,University of Toronto                                34  \nHarbourfront East,Toronto Islands,Union Station             100  \nHumber Bay Shores,Mimico South,New Toronto                   12  \nNorth Toronto West                                           19  ", 
                        "text/html": "<div>\n<style scoped>\n    .dataframe tbody tr th:only-of-type {\n        vertical-align: middle;\n    }\n\n    .dataframe tbody tr th {\n        vertical-align: top;\n    }\n\n    .dataframe thead th {\n        text-align: right;\n    }\n</style>\n<table border=\"1\" class=\"dataframe\">\n  <thead>\n    <tr style=\"text-align: right;\">\n      <th></th>\n      <th>Neighborhood Latitude</th>\n      <th>Neighborhood Longitude</th>\n      <th>Venue</th>\n      <th>Venue Latitude</th>\n      <th>Venue Longitude</th>\n      <th>Venue Category</th>\n    </tr>\n    <tr>\n      <th>Neighborhood</th>\n      <th></th>\n      <th></th>\n      <th></th>\n      <th></th>\n      <th></th>\n      <th></th>\n    </tr>\n  </thead>\n  <tbody>\n    <tr>\n      <th>CFB Toronto,Downsview East</th>\n      <td>3</td>\n      <td>3</td>\n      <td>3</td>\n      <td>3</td>\n      <td>3</td>\n      <td>3</td>\n    </tr>\n    <tr>\n      <th>Design Exchange,Toronto Dominion Centre</th>\n      <td>100</td>\n      <td>100</td>\n      <td>100</td>\n      <td>100</td>\n      <td>100</td>\n      <td>100</td>\n    </tr>\n    <tr>\n      <th>East Toronto</th>\n      <td>3</td>\n      <td>3</td>\n      <td>3</td>\n      <td>3</td>\n      <td>3</td>\n      <td>3</td>\n    </tr>\n    <tr>\n      <th>Harbord,University of Toronto</th>\n      <td>34</td>\n      <td>34</td>\n      <td>34</td>\n      <td>34</td>\n      <td>34</td>\n      <td>34</td>\n    </tr>\n    <tr>\n      <th>Harbourfront East,Toronto Islands,Union Station</th>\n      <td>100</td>\n      <td>100</td>\n      <td>100</td>\n      <td>100</td>\n      <td>100</td>\n      <td>100</td>\n    </tr>\n    <tr>\n      <th>Humber Bay Shores,Mimico South,New Toronto</th>\n      <td>12</td>\n      <td>12</td>\n      <td>12</td>\n      <td>12</td>\n      <td>12</td>\n      <td>12</td>\n    </tr>\n    <tr>\n      <th>North Toronto West</th>\n      <td>19</td>\n      <td>19</td>\n      <td>19</td>\n      <td>19</td>\n      <td>19</td>\n      <td>19</td>\n    </tr>\n  </tbody>\n</table>\n</div>"
                    }, 
                    "execution_count": 58, 
                    "metadata": {}
                }
            ], 
            "execution_count": 58
        }, 
        {
            "source": "def return_most_common_venues(row, num_top_venues):\n    row_categories = row.iloc[1:]\n    row_categories_sorted = row_categories.sort_values(ascending=False)\n    \n    return row_categories_sorted.index.values[0:num_top_venues]", 
            "cell_type": "code", 
            "metadata": {}, 
            "outputs": [], 
            "execution_count": 59
        }, 
        {
            "source": "## Twist the data into analyzable form", 
            "cell_type": "markdown", 
            "metadata": {}
        }, 
        {
            "source": "# one hot encoding\ntoronto_onehot = pd.get_dummies(toronto_venues[['Venue Category']], prefix=\"\", prefix_sep=\"\")\n\n# add neighborhood column back to dataframe\ntoronto_onehot['Neighborhood'] = toronto_venues['Neighborhood'] \n\n# move neighborhood column to the first column\nfixed_columns = [toronto_onehot.columns[-1]] + list(toronto_onehot.columns[:-1])\ntoronto_onehot = toronto_onehot[fixed_columns]\n\n# toronto_onehot.head()\n\ntoronto_grouped = toronto_onehot.groupby('Neighborhood').mean().reset_index()\ntoronto_grouped", 
            "cell_type": "code", 
            "metadata": {}, 
            "outputs": [
                {
                    "output_type": "execute_result", 
                    "data": {
                        "text/plain": "                                      Neighborhood  Yoga Studio   Airport  \\\n0                       CFB Toronto,Downsview East     0.000000  0.333333   \n1          Design Exchange,Toronto Dominion Centre     0.000000  0.000000   \n2                                     East Toronto     0.000000  0.000000   \n3                    Harbord,University of Toronto     0.000000  0.000000   \n4  Harbourfront East,Toronto Islands,Union Station     0.000000  0.000000   \n5       Humber Bay Shores,Mimico South,New Toronto     0.000000  0.000000   \n6                               North Toronto West     0.052632  0.000000   \n\n   American Restaurant  Aquarium  Art Gallery  Asian Restaurant    Bakery  \\\n0             0.000000      0.00         0.00              0.00  0.000000   \n1             0.040000      0.00         0.01              0.01  0.010000   \n2             0.000000      0.00         0.00              0.00  0.000000   \n3             0.000000      0.00         0.00              0.00  0.058824   \n4             0.000000      0.05         0.01              0.00  0.020000   \n5             0.083333      0.00         0.00              0.00  0.083333   \n6             0.000000      0.00         0.00              0.00  0.000000   \n\n   Bank       Bar    ...     Steakhouse  Supermarket  Sushi Restaurant  \\\n0  0.00  0.000000    ...           0.00         0.00          0.000000   \n1  0.00  0.020000    ...           0.02         0.00          0.000000   \n2  0.00  0.000000    ...           0.00         0.00          0.000000   \n3  0.00  0.058824    ...           0.00         0.00          0.029412   \n4  0.01  0.020000    ...           0.01         0.01          0.010000   \n5  0.00  0.000000    ...           0.00         0.00          0.000000   \n6  0.00  0.000000    ...           0.00         0.00          0.000000   \n\n   Tea Room  Thai Restaurant   Theater  Train Station  \\\n0      0.00             0.00  0.000000           0.00   \n1      0.01             0.02  0.010000           0.01   \n2      0.00             0.00  0.000000           0.00   \n3      0.00             0.00  0.029412           0.00   \n4      0.01             0.00  0.010000           0.02   \n5      0.00             0.00  0.000000           0.00   \n6      0.00             0.00  0.000000           0.00   \n\n   Vegetarian / Vegan Restaurant  Video Game Store  Wine Bar  \n0                           0.00          0.000000      0.00  \n1                           0.00          0.000000      0.01  \n2                           0.00          0.000000      0.00  \n3                           0.00          0.029412      0.00  \n4                           0.01          0.000000      0.01  \n5                           0.00          0.000000      0.00  \n6                           0.00          0.000000      0.00  \n\n[7 rows x 98 columns]", 
                        "text/html": "<div>\n<style scoped>\n    .dataframe tbody tr th:only-of-type {\n        vertical-align: middle;\n    }\n\n    .dataframe tbody tr th {\n        vertical-align: top;\n    }\n\n    .dataframe thead th {\n        text-align: right;\n    }\n</style>\n<table border=\"1\" class=\"dataframe\">\n  <thead>\n    <tr style=\"text-align: right;\">\n      <th></th>\n      <th>Neighborhood</th>\n      <th>Yoga Studio</th>\n      <th>Airport</th>\n      <th>American Restaurant</th>\n      <th>Aquarium</th>\n      <th>Art Gallery</th>\n      <th>Asian Restaurant</th>\n      <th>Bakery</th>\n      <th>Bank</th>\n      <th>Bar</th>\n      <th>...</th>\n      <th>Steakhouse</th>\n      <th>Supermarket</th>\n      <th>Sushi Restaurant</th>\n      <th>Tea Room</th>\n      <th>Thai Restaurant</th>\n      <th>Theater</th>\n      <th>Train Station</th>\n      <th>Vegetarian / Vegan Restaurant</th>\n      <th>Video Game Store</th>\n      <th>Wine Bar</th>\n    </tr>\n  </thead>\n  <tbody>\n    <tr>\n      <th>0</th>\n      <td>CFB Toronto,Downsview East</td>\n      <td>0.000000</td>\n      <td>0.333333</td>\n      <td>0.000000</td>\n      <td>0.00</td>\n      <td>0.00</td>\n      <td>0.00</td>\n      <td>0.000000</td>\n      <td>0.00</td>\n      <td>0.000000</td>\n      <td>...</td>\n      <td>0.00</td>\n      <td>0.00</td>\n      <td>0.000000</td>\n      <td>0.00</td>\n      <td>0.00</td>\n      <td>0.000000</td>\n      <td>0.00</td>\n      <td>0.00</td>\n      <td>0.000000</td>\n      <td>0.00</td>\n    </tr>\n    <tr>\n      <th>1</th>\n      <td>Design Exchange,Toronto Dominion Centre</td>\n      <td>0.000000</td>\n      <td>0.000000</td>\n      <td>0.040000</td>\n      <td>0.00</td>\n      <td>0.01</td>\n      <td>0.01</td>\n      <td>0.010000</td>\n      <td>0.00</td>\n      <td>0.020000</td>\n      <td>...</td>\n      <td>0.02</td>\n      <td>0.00</td>\n      <td>0.000000</td>\n      <td>0.01</td>\n      <td>0.02</td>\n      <td>0.010000</td>\n      <td>0.01</td>\n      <td>0.00</td>\n      <td>0.000000</td>\n      <td>0.01</td>\n    </tr>\n    <tr>\n      <th>2</th>\n      <td>East Toronto</td>\n      <td>0.000000</td>\n      <td>0.000000</td>\n      <td>0.000000</td>\n      <td>0.00</td>\n      <td>0.00</td>\n      <td>0.00</td>\n      <td>0.000000</td>\n      <td>0.00</td>\n      <td>0.000000</td>\n      <td>...</td>\n      <td>0.00</td>\n      <td>0.00</td>\n      <td>0.000000</td>\n      <td>0.00</td>\n      <td>0.00</td>\n      <td>0.000000</td>\n      <td>0.00</td>\n      <td>0.00</td>\n      <td>0.000000</td>\n      <td>0.00</td>\n    </tr>\n    <tr>\n      <th>3</th>\n      <td>Harbord,University of Toronto</td>\n      <td>0.000000</td>\n      <td>0.000000</td>\n      <td>0.000000</td>\n      <td>0.00</td>\n      <td>0.00</td>\n      <td>0.00</td>\n      <td>0.058824</td>\n      <td>0.00</td>\n      <td>0.058824</td>\n      <td>...</td>\n      <td>0.00</td>\n      <td>0.00</td>\n      <td>0.029412</td>\n      <td>0.00</td>\n      <td>0.00</td>\n      <td>0.029412</td>\n      <td>0.00</td>\n      <td>0.00</td>\n      <td>0.029412</td>\n      <td>0.00</td>\n    </tr>\n    <tr>\n      <th>4</th>\n      <td>Harbourfront East,Toronto Islands,Union Station</td>\n      <td>0.000000</td>\n      <td>0.000000</td>\n      <td>0.000000</td>\n      <td>0.05</td>\n      <td>0.01</td>\n      <td>0.00</td>\n      <td>0.020000</td>\n      <td>0.01</td>\n      <td>0.020000</td>\n      <td>...</td>\n      <td>0.01</td>\n      <td>0.01</td>\n      <td>0.010000</td>\n      <td>0.01</td>\n      <td>0.00</td>\n      <td>0.010000</td>\n      <td>0.02</td>\n      <td>0.01</td>\n      <td>0.000000</td>\n      <td>0.01</td>\n    </tr>\n    <tr>\n      <th>5</th>\n      <td>Humber Bay Shores,Mimico South,New Toronto</td>\n      <td>0.000000</td>\n      <td>0.000000</td>\n      <td>0.083333</td>\n      <td>0.00</td>\n      <td>0.00</td>\n      <td>0.00</td>\n      <td>0.083333</td>\n      <td>0.00</td>\n      <td>0.000000</td>\n      <td>...</td>\n      <td>0.00</td>\n      <td>0.00</td>\n      <td>0.000000</td>\n      <td>0.00</td>\n      <td>0.00</td>\n      <td>0.000000</td>\n      <td>0.00</td>\n      <td>0.00</td>\n      <td>0.000000</td>\n      <td>0.00</td>\n    </tr>\n    <tr>\n      <th>6</th>\n      <td>North Toronto West</td>\n      <td>0.052632</td>\n      <td>0.000000</td>\n      <td>0.000000</td>\n      <td>0.00</td>\n      <td>0.00</td>\n      <td>0.00</td>\n      <td>0.000000</td>\n      <td>0.00</td>\n      <td>0.000000</td>\n      <td>...</td>\n      <td>0.00</td>\n      <td>0.00</td>\n      <td>0.000000</td>\n      <td>0.00</td>\n      <td>0.00</td>\n      <td>0.000000</td>\n      <td>0.00</td>\n      <td>0.00</td>\n      <td>0.000000</td>\n      <td>0.00</td>\n    </tr>\n  </tbody>\n</table>\n<p>7 rows \u00d7 98 columns</p>\n</div>"
                    }, 
                    "execution_count": 60, 
                    "metadata": {}
                }
            ], 
            "execution_count": 60
        }, 
        {
            "source": "## Grab the top 10 Important Neighborhood features for the KMeans", 
            "cell_type": "markdown", 
            "metadata": {}
        }, 
        {
            "source": "num_top_venues = 10\n\nindicators = ['st', 'nd', 'rd']\n\n# create columns according to number of top venues\ncolumns = ['Neighborhood']\nfor ind in np.arange(num_top_venues):\n    try:\n        columns.append('{}{} Most Common Venue'.format(ind+1, indicators[ind]))\n    except:\n        columns.append('{}th Most Common Venue'.format(ind+1))\n\n# create a new dataframe\nneighborhoods_venues_sorted = pd.DataFrame(columns=columns)\nneighborhoods_venues_sorted['Neighborhood'] = toronto_grouped['Neighborhood']\n\nfor ind in np.arange(toronto_grouped.shape[0]):\n    neighborhoods_venues_sorted.iloc[ind, 1:] = return_most_common_venues(toronto_grouped.iloc[ind, :], num_top_venues)\n\nneighborhoods_venues_sorted", 
            "cell_type": "code", 
            "metadata": {}, 
            "outputs": [
                {
                    "output_type": "execute_result", 
                    "data": {
                        "text/plain": "                                      Neighborhood 1st Most Common Venue  \\\n0                       CFB Toronto,Downsview East               Airport   \n1          Design Exchange,Toronto Dominion Centre           Coffee Shop   \n2                                     East Toronto           Coffee Shop   \n3                    Harbord,University of Toronto                  Caf\u00e9   \n4  Harbourfront East,Toronto Islands,Union Station           Coffee Shop   \n5       Humber Bay Shores,Mimico South,New Toronto           Coffee Shop   \n6                               North Toronto West           Coffee Shop   \n\n  2nd Most Common Venue 3rd Most Common Venue 4th Most Common Venue  \\\n0                  Park              Bus Stop              Wine Bar   \n1                  Caf\u00e9                 Hotel            Restaurant   \n2     Convenience Store                  Park              Wine Bar   \n3             Bookstore                Bakery                   Bar   \n4              Aquarium                 Hotel           Pizza Place   \n5   Fried Chicken Joint            Restaurant                  Caf\u00e9   \n6   Sporting Goods Shop           Yoga Studio        Sandwich Place   \n\n  5th Most Common Venue 6th Most Common Venue 7th Most Common Venue  \\\n0     French Restaurant     Convenience Store          Dance Studio   \n1   American Restaurant    Italian Restaurant                   Gym   \n2            Food Court          Concert Hall          Dance Studio   \n3           Coffee Shop            Restaurant   Japanese Restaurant   \n4                  Caf\u00e9            Restaurant        Scenic Lookout   \n5        Sandwich Place  Fast Food Restaurant           Pizza Place   \n6         Grocery Store             Gift Shop  Fast Food Restaurant   \n\n  8th Most Common Venue 9th Most Common Venue   10th Most Common Venue  \n0         Deli / Bodega          Dessert Shop                    Diner  \n1             Gastropub         Deli / Bodega       Seafood Restaurant  \n2         Deli / Bodega          Dessert Shop                    Diner  \n3             Nightclub          Noodle House  Comfort Food Restaurant  \n4    Italian Restaurant               Brewery      Fried Chicken Joint  \n5          Liquor Store              Pharmacy                   Bakery  \n6    Mexican Restaurant                 Diner             Dessert Shop  ", 
                        "text/html": "<div>\n<style scoped>\n    .dataframe tbody tr th:only-of-type {\n        vertical-align: middle;\n    }\n\n    .dataframe tbody tr th {\n        vertical-align: top;\n    }\n\n    .dataframe thead th {\n        text-align: right;\n    }\n</style>\n<table border=\"1\" class=\"dataframe\">\n  <thead>\n    <tr style=\"text-align: right;\">\n      <th></th>\n      <th>Neighborhood</th>\n      <th>1st Most Common Venue</th>\n      <th>2nd Most Common Venue</th>\n      <th>3rd Most Common Venue</th>\n      <th>4th Most Common Venue</th>\n      <th>5th Most Common Venue</th>\n      <th>6th Most Common Venue</th>\n      <th>7th Most Common Venue</th>\n      <th>8th Most Common Venue</th>\n      <th>9th Most Common Venue</th>\n      <th>10th Most Common Venue</th>\n    </tr>\n  </thead>\n  <tbody>\n    <tr>\n      <th>0</th>\n      <td>CFB Toronto,Downsview East</td>\n      <td>Airport</td>\n      <td>Park</td>\n      <td>Bus Stop</td>\n      <td>Wine Bar</td>\n      <td>French Restaurant</td>\n      <td>Convenience Store</td>\n      <td>Dance Studio</td>\n      <td>Deli / Bodega</td>\n      <td>Dessert Shop</td>\n      <td>Diner</td>\n    </tr>\n    <tr>\n      <th>1</th>\n      <td>Design Exchange,Toronto Dominion Centre</td>\n      <td>Coffee Shop</td>\n      <td>Caf\u00e9</td>\n      <td>Hotel</td>\n      <td>Restaurant</td>\n      <td>American Restaurant</td>\n      <td>Italian Restaurant</td>\n      <td>Gym</td>\n      <td>Gastropub</td>\n      <td>Deli / Bodega</td>\n      <td>Seafood Restaurant</td>\n    </tr>\n    <tr>\n      <th>2</th>\n      <td>East Toronto</td>\n      <td>Coffee Shop</td>\n      <td>Convenience Store</td>\n      <td>Park</td>\n      <td>Wine Bar</td>\n      <td>Food Court</td>\n      <td>Concert Hall</td>\n      <td>Dance Studio</td>\n      <td>Deli / Bodega</td>\n      <td>Dessert Shop</td>\n      <td>Diner</td>\n    </tr>\n    <tr>\n      <th>3</th>\n      <td>Harbord,University of Toronto</td>\n      <td>Caf\u00e9</td>\n      <td>Bookstore</td>\n      <td>Bakery</td>\n      <td>Bar</td>\n      <td>Coffee Shop</td>\n      <td>Restaurant</td>\n      <td>Japanese Restaurant</td>\n      <td>Nightclub</td>\n      <td>Noodle House</td>\n      <td>Comfort Food Restaurant</td>\n    </tr>\n    <tr>\n      <th>4</th>\n      <td>Harbourfront East,Toronto Islands,Union Station</td>\n      <td>Coffee Shop</td>\n      <td>Aquarium</td>\n      <td>Hotel</td>\n      <td>Pizza Place</td>\n      <td>Caf\u00e9</td>\n      <td>Restaurant</td>\n      <td>Scenic Lookout</td>\n      <td>Italian Restaurant</td>\n      <td>Brewery</td>\n      <td>Fried Chicken Joint</td>\n    </tr>\n    <tr>\n      <th>5</th>\n      <td>Humber Bay Shores,Mimico South,New Toronto</td>\n      <td>Coffee Shop</td>\n      <td>Fried Chicken Joint</td>\n      <td>Restaurant</td>\n      <td>Caf\u00e9</td>\n      <td>Sandwich Place</td>\n      <td>Fast Food Restaurant</td>\n      <td>Pizza Place</td>\n      <td>Liquor Store</td>\n      <td>Pharmacy</td>\n      <td>Bakery</td>\n    </tr>\n    <tr>\n      <th>6</th>\n      <td>North Toronto West</td>\n      <td>Coffee Shop</td>\n      <td>Sporting Goods Shop</td>\n      <td>Yoga Studio</td>\n      <td>Sandwich Place</td>\n      <td>Grocery Store</td>\n      <td>Gift Shop</td>\n      <td>Fast Food Restaurant</td>\n      <td>Mexican Restaurant</td>\n      <td>Diner</td>\n      <td>Dessert Shop</td>\n    </tr>\n  </tbody>\n</table>\n</div>"
                    }, 
                    "execution_count": 61, 
                    "metadata": {}
                }
            ], 
            "execution_count": 61
        }, 
        {
            "source": "## Import KMeans\nRun it against the Toronto Data", 
            "cell_type": "markdown", 
            "metadata": {}
        }, 
        {
            "source": "# import k-means from clustering stage\nfrom sklearn.cluster import KMeans\n\n# set number of clusters\nkclusters = 5\n\ntoronto_grouped_clustering = toronto_grouped.drop('Neighborhood', 1)\n\n# run k-means clustering\nkmeans = KMeans(n_clusters=kclusters, random_state=0).fit(toronto_grouped_clustering)\n\n# check cluster labels generated for each row in the dataframe\nkmeans.labels_[0:10] ", 
            "cell_type": "code", 
            "metadata": {}, 
            "outputs": [
                {
                    "output_type": "execute_result", 
                    "data": {
                        "text/plain": "array([1, 0, 2, 0, 0, 4, 3], dtype=int32)"
                    }, 
                    "execution_count": 62, 
                    "metadata": {}
                }
            ], 
            "execution_count": 62
        }, 
        {
            "source": "## Merge analysis cluster labels back into data", 
            "cell_type": "markdown", 
            "metadata": {}
        }, 
        {
            "source": "toronto_merged = analysis_data\n\n# add clustering labels\ntoronto_merged['Cluster Labels'] = kmeans.labels_\n\n# merge toronto_grouped with toronto_data to add latitude/longitude for each neighborhood\ntoronto_merged = toronto_merged.join(neighborhoods_venues_sorted.set_index('Neighborhood'), on='Neighborhood')\n\ntoronto_merged.head() # check the last columns!", 
            "cell_type": "code", 
            "metadata": {}, 
            "outputs": [
                {
                    "output_type": "stream", 
                    "name": "stderr", 
                    "text": "/opt/conda/envs/DSX-Python35/lib/python3.5/site-packages/ipykernel/__main__.py:4: SettingWithCopyWarning: \nA value is trying to be set on a copy of a slice from a DataFrame.\nTry using .loc[row_indexer,col_indexer] = value instead\n\nSee the caveats in the documentation: http://pandas.pydata.org/pandas-docs/stable/indexing.html#indexing-view-versus-copy\n"
                }, 
                {
                    "output_type": "execute_result", 
                    "data": {
                        "text/plain": "   PostalCode           Borough  \\\n30        M3K        North York   \n40        M4J         East York   \n46        M4R   Central Toronto   \n59        M5J  Downtown Toronto   \n60        M5K  Downtown Toronto   \n\n                                       Neighborhood Postal Code   Latitude  \\\n30                       CFB Toronto,Downsview East         M3K  43.737473   \n40                                     East Toronto         M4J  43.685347   \n46                               North Toronto West         M4R  43.715383   \n59  Harbourfront East,Toronto Islands,Union Station         M5J  43.640816   \n60          Design Exchange,Toronto Dominion Centre         M5K  43.647177   \n\n    Longitude  Cluster Labels 1st Most Common Venue 2nd Most Common Venue  \\\n30 -79.464763               1               Airport                  Park   \n40 -79.338106               0           Coffee Shop     Convenience Store   \n46 -79.405678               2           Coffee Shop   Sporting Goods Shop   \n59 -79.381752               0           Coffee Shop              Aquarium   \n60 -79.381576               0           Coffee Shop                  Caf\u00e9   \n\n   3rd Most Common Venue 4th Most Common Venue 5th Most Common Venue  \\\n30              Bus Stop              Wine Bar     French Restaurant   \n40                  Park              Wine Bar            Food Court   \n46           Yoga Studio        Sandwich Place         Grocery Store   \n59                 Hotel           Pizza Place                  Caf\u00e9   \n60                 Hotel            Restaurant   American Restaurant   \n\n   6th Most Common Venue 7th Most Common Venue 8th Most Common Venue  \\\n30     Convenience Store          Dance Studio         Deli / Bodega   \n40          Concert Hall          Dance Studio         Deli / Bodega   \n46             Gift Shop  Fast Food Restaurant    Mexican Restaurant   \n59            Restaurant        Scenic Lookout    Italian Restaurant   \n60    Italian Restaurant                   Gym             Gastropub   \n\n   9th Most Common Venue 10th Most Common Venue  \n30          Dessert Shop                  Diner  \n40          Dessert Shop                  Diner  \n46                 Diner           Dessert Shop  \n59               Brewery    Fried Chicken Joint  \n60         Deli / Bodega     Seafood Restaurant  ", 
                        "text/html": "<div>\n<style scoped>\n    .dataframe tbody tr th:only-of-type {\n        vertical-align: middle;\n    }\n\n    .dataframe tbody tr th {\n        vertical-align: top;\n    }\n\n    .dataframe thead th {\n        text-align: right;\n    }\n</style>\n<table border=\"1\" class=\"dataframe\">\n  <thead>\n    <tr style=\"text-align: right;\">\n      <th></th>\n      <th>PostalCode</th>\n      <th>Borough</th>\n      <th>Neighborhood</th>\n      <th>Postal Code</th>\n      <th>Latitude</th>\n      <th>Longitude</th>\n      <th>Cluster Labels</th>\n      <th>1st Most Common Venue</th>\n      <th>2nd Most Common Venue</th>\n      <th>3rd Most Common Venue</th>\n      <th>4th Most Common Venue</th>\n      <th>5th Most Common Venue</th>\n      <th>6th Most Common Venue</th>\n      <th>7th Most Common Venue</th>\n      <th>8th Most Common Venue</th>\n      <th>9th Most Common Venue</th>\n      <th>10th Most Common Venue</th>\n    </tr>\n  </thead>\n  <tbody>\n    <tr>\n      <th>30</th>\n      <td>M3K</td>\n      <td>North York</td>\n      <td>CFB Toronto,Downsview East</td>\n      <td>M3K</td>\n      <td>43.737473</td>\n      <td>-79.464763</td>\n      <td>1</td>\n      <td>Airport</td>\n      <td>Park</td>\n      <td>Bus Stop</td>\n      <td>Wine Bar</td>\n      <td>French Restaurant</td>\n      <td>Convenience Store</td>\n      <td>Dance Studio</td>\n      <td>Deli / Bodega</td>\n      <td>Dessert Shop</td>\n      <td>Diner</td>\n    </tr>\n    <tr>\n      <th>40</th>\n      <td>M4J</td>\n      <td>East York</td>\n      <td>East Toronto</td>\n      <td>M4J</td>\n      <td>43.685347</td>\n      <td>-79.338106</td>\n      <td>0</td>\n      <td>Coffee Shop</td>\n      <td>Convenience Store</td>\n      <td>Park</td>\n      <td>Wine Bar</td>\n      <td>Food Court</td>\n      <td>Concert Hall</td>\n      <td>Dance Studio</td>\n      <td>Deli / Bodega</td>\n      <td>Dessert Shop</td>\n      <td>Diner</td>\n    </tr>\n    <tr>\n      <th>46</th>\n      <td>M4R</td>\n      <td>Central Toronto</td>\n      <td>North Toronto West</td>\n      <td>M4R</td>\n      <td>43.715383</td>\n      <td>-79.405678</td>\n      <td>2</td>\n      <td>Coffee Shop</td>\n      <td>Sporting Goods Shop</td>\n      <td>Yoga Studio</td>\n      <td>Sandwich Place</td>\n      <td>Grocery Store</td>\n      <td>Gift Shop</td>\n      <td>Fast Food Restaurant</td>\n      <td>Mexican Restaurant</td>\n      <td>Diner</td>\n      <td>Dessert Shop</td>\n    </tr>\n    <tr>\n      <th>59</th>\n      <td>M5J</td>\n      <td>Downtown Toronto</td>\n      <td>Harbourfront East,Toronto Islands,Union Station</td>\n      <td>M5J</td>\n      <td>43.640816</td>\n      <td>-79.381752</td>\n      <td>0</td>\n      <td>Coffee Shop</td>\n      <td>Aquarium</td>\n      <td>Hotel</td>\n      <td>Pizza Place</td>\n      <td>Caf\u00e9</td>\n      <td>Restaurant</td>\n      <td>Scenic Lookout</td>\n      <td>Italian Restaurant</td>\n      <td>Brewery</td>\n      <td>Fried Chicken Joint</td>\n    </tr>\n    <tr>\n      <th>60</th>\n      <td>M5K</td>\n      <td>Downtown Toronto</td>\n      <td>Design Exchange,Toronto Dominion Centre</td>\n      <td>M5K</td>\n      <td>43.647177</td>\n      <td>-79.381576</td>\n      <td>0</td>\n      <td>Coffee Shop</td>\n      <td>Caf\u00e9</td>\n      <td>Hotel</td>\n      <td>Restaurant</td>\n      <td>American Restaurant</td>\n      <td>Italian Restaurant</td>\n      <td>Gym</td>\n      <td>Gastropub</td>\n      <td>Deli / Bodega</td>\n      <td>Seafood Restaurant</td>\n    </tr>\n  </tbody>\n</table>\n</div>"
                    }, 
                    "execution_count": 63, 
                    "metadata": {}
                }
            ], 
            "execution_count": 63
        }, 
        {
            "source": "## Create Chart Showing the like clusters", 
            "cell_type": "markdown", 
            "metadata": {}
        }, 
        {
            "source": "# Matplotlib and associated plotting modules\nimport matplotlib.cm as cm\nimport matplotlib.colors as colors\n\n# create map\nmap_clusters = folium.Map(location=[latitude, longitude], zoom_start=12)\n\n# set color scheme for the clusters\nx = np.arange(kclusters)\nys = [i+x+(i*x)**2 for i in range(kclusters)]\ncolors_array = cm.rainbow(np.linspace(0, 1, len(ys)))\nrainbow = [colors.rgb2hex(i) for i in colors_array]\n\n# add markers to the map\nmarkers_colors = []\nfor lat, lon, poi, cluster in zip(toronto_merged['Latitude'], toronto_merged['Longitude'], toronto_merged['Neighborhood'], toronto_merged['Cluster Labels']):\n    label = folium.Popup(str(poi) + ' Cluster ' + str(cluster), parse_html=True)\n    folium.CircleMarker(\n        [lat, lon],\n        radius=5,\n        popup=label,\n        color=rainbow[cluster-1],\n        fill=True,\n        fill_color=rainbow[cluster-1],\n        fill_opacity=0.7).add_to(map_clusters)\n       \nmap_clusters", 
            "cell_type": "code", 
            "metadata": {
                "scrolled": false
            }, 
            "outputs": [
                {
                    "output_type": "execute_result", 
                    "data": {
                        "text/plain": "<folium.folium.Map at 0x2aef8fc4a518>", 
                        "text/html": "<div style=\"width:100%;\"><div style=\"position:relative;width:100%;height:0;padding-bottom:60%;\"><iframe src=\"data:text/html;charset=utf-8;base64,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\" style=\"position:absolute;width:100%;height:100%;left:0;top:0;border:none !important;\" allowfullscreen webkitallowfullscreen mozallowfullscreen></iframe></div></div>"
                    }, 
                    "execution_count": 64, 
                    "metadata": {}
                }
            ], 
            "execution_count": 64
        }, 
        {
            "source": "## Findings are - 3 of the 7 Neighborhoods are alike and 4 are unique\n\nNot convinced the GitHub Versions are rendering the Maps", 
            "cell_type": "markdown", 
            "metadata": {}
        }
    ], 
    "metadata": {
        "kernelspec": {
            "display_name": "Python 3.5", 
            "name": "python3", 
            "language": "python"
        }, 
        "language_info": {
            "mimetype": "text/x-python", 
            "nbconvert_exporter": "python", 
            "version": "3.5.5", 
            "name": "python", 
            "pygments_lexer": "ipython3", 
            "file_extension": ".py", 
            "codemirror_mode": {
                "version": 3, 
                "name": "ipython"
            }
        }
    }, 
    "nbformat": 4
}