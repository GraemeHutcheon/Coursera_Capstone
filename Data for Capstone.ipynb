{
    "nbformat_minor": 1, 
    "cells": [
        {
            "source": "# Data", 
            "cell_type": "markdown", 
            "metadata": {
                "collapsed": true
            }
        }, 
        {
            "source": "The goal of this project is to see how similar each of the defined cities is to New York.\n\nIf the current restaurant is successful in New York City then the assumption is it will be successful in a city center which like New York.\n\nNow let me define what LIKE means to our client. \n<br>Utilizing FourSquare and the Food CategoryID our consultants will extract restaurant information for each city center. Grouping the restaurants by there Sub CategoryID - Pizza, Sandwich, Bistro etc and building a dataframe of top 10 restaurant styles per city.\n\nThese Top10 per city center will then be used by the machine learning algorithm to suggest like cities.", 
            "cell_type": "markdown", 
            "metadata": {}
        }
    ], 
    "metadata": {
        "kernelspec": {
            "display_name": "Python 3.5", 
            "name": "python3", 
            "language": "python"
        }, 
        "language_info": {
            "mimetype": "text/x-python", 
            "nbconvert_exporter": "python", 
            "version": "3.5.5", 
            "name": "python", 
            "file_extension": ".py", 
            "pygments_lexer": "ipython3", 
            "codemirror_mode": {
                "version": 3, 
                "name": "ipython"
            }
        }
    }, 
    "nbformat": 4
}