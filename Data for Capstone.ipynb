{
    "nbformat_minor": 1, 
    "cells": [
        {
            "source": "# Data", 
            "cell_type": "markdown", 
            "metadata": {
                "collapsed": true
            }
        }, 
        {
            "source": "The goal of this project is to see how similar each of the defined cities is to New York.\n\nIf the current restaurant is successful in New York City then the assumption is it will be successful in a city center which like New York.\n\nNow let me define what LIKE means to our client. \n<br>Utilizing FourSquare and the Food CategoryID our consultants will extract restaurant information for each city center. Grouping the restaurants by there Sub CategoryID - Pizza, Sandwich, Bistro etc and building a dataframe of top 10 restaurant styles per city each with their count.\n\nThese Top10 per city center will then be used by the machine learning algorithm to suggest like cities.\n\neg Sample Food Venue returned from -\n```\n\nhttps://api.foursquare.com/v2/venues/search?client_id=XXX&client_secret=XXX&ll=40.7149555,-74.0153365&v=20180604&categoryId=4d4b7105d754a06374d81259&radius=1000&limit=3\n\n```\nSample Response\n```\n\n{'id': '5accb33d2c7eb96824340d53',\n    'name': 'Seamore\u2019s',\n    'location': {'address': '230 Vesey St',\n     'lat': 40.71424164376645,\n     'lng': -74.01508537789734,\n     'labeledLatLngs': [{'label': 'display',\n       'lat': 40.71424164376645,\n       'lng': -74.01508537789734}],\n     'distance': 82,\n     'postalCode': '10285',\n     'cc': 'US',\n     'city': 'New York',\n     'state': 'NY',\n     'country': 'United States',\n     'formattedAddress': ['230 Vesey St',\n      'New York, NY 10285',\n      'United States']},\n    'categories': [{'id': '4bf58dd8d48988d1ce941735',\n      'name': 'Seafood Restaurant',\n      'pluralName': 'Seafood Restaurants',\n      'shortName': 'Seafood',\n      'icon': {'prefix': 'https://ss3.4sqi.net/img/categories_v2/food/seafood_',\n       'suffix': '.png'},\n      'primary': True}],\n    'delivery': {'id': '884804',\n     'url': 'https://www.seamless.com/menu/seamores-250-vesey-st-new-york/884804?affiliate=1131&utm_source=foursquare-affiliate-network&utm_medium=affiliate&utm_campaign=1131&utm_content=884804',\n     'provider': {'name': 'seamless',\n      'icon': {'prefix': 'https://fastly.4sqi.net/img/general/cap/',\n       'sizes': [40, 50],\n       'name': '/delivery_provider_seamless_20180129.png'}}},\n    'referralId': 'v-1545921117',\n    'hasPerk': False},\n```\n\nInteresting Features for us are the **categories** in the above sample case - **Seafood Restaurant**", 
            "cell_type": "markdown", 
            "metadata": {}
        }
    ], 
    "metadata": {
        "kernelspec": {
            "display_name": "Python 3.5", 
            "name": "python3", 
            "language": "python"
        }, 
        "language_info": {
            "mimetype": "text/x-python", 
            "nbconvert_exporter": "python", 
            "version": "3.5.5", 
            "name": "python", 
            "file_extension": ".py", 
            "pygments_lexer": "ipython3", 
            "codemirror_mode": {
                "version": 3, 
                "name": "ipython"
            }
        }
    }, 
    "nbformat": 4
}