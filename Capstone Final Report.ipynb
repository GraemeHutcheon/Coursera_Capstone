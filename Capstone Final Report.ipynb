{
    "nbformat_minor": 1, 
    "cells": [
        {
            "source": "<a id='cover_page'></a>\n# Cover page", 
            "cell_type": "markdown", 
            "metadata": {}
        }, 
        {
            "source": "## Where should we open the next Vegan Resaurant - Vegans 'R US\n<br>\n \n### Report Developed on behalf of - Vegans 'R US LLC\n### Report Author - Graeme Hutcheon for Deep Analytics Incorp\n### Published on - 12/30/2018", 
            "cell_type": "markdown", 
            "metadata": {}
        }, 
        {
            "source": "<a id='toc'></a>\n# Table Of Contents", 
            "cell_type": "markdown", 
            "metadata": {}
        }, 
        {
            "source": "[Cover Page](#cover_page)\n\n[Table of Contents](#toc)\n\n[Abstract](#abstract)\n\n[Introduction](#introduction)\n\n[Methodology](#methodology)\n\n[Results](#results)\n\n[Discussion](#discussion)\n\n[Conclusion](#conclusion)\n\n[References & Acknowlegements](#housekeeping)", 
            "cell_type": "markdown", 
            "metadata": {}
        }, 
        {
            "source": "<a id='abstract'></a>\n# Abstract", 
            "cell_type": "markdown", 
            "metadata": {}
        }, 
        {
            "source": "We Deep Analytics Incorp were hired by Vegans 'R US to assist finding them new location(s) to expand the business. Their statement when approaching us was - \"We are very successful in central Manhattan find us a similar City to be successful in.\" \n<br>\n<br>\nThe goal is to provide a similar city within a downtown area which has a broad mix of restaurants. The diversity of these restaurants needs to be similar to Manhattan. Their belief is, that by offering a vegan restaurant in a city with a similar mix of venues to Manhattan, we will build upon our current success.\n<br>\n<br>\nThe project will utilize FourSquares database to pull Restaurant data for a list of prospective Cities both in the USA and overseas. With this dataset we can implement a machine learning algorithm to cluster these cities based on Restaurant Categories. Then by reviewing what has been grouped with our Target City - New York we can offer up new locations for business expansion.\n<br>\n", 
            "cell_type": "markdown", 
            "metadata": {}
        }, 
        {
            "source": "<a id='introduction'></a>\n# Introduction", 
            "cell_type": "markdown", 
            "metadata": {
                "collapsed": true
            }
        }, 
        {
            "source": "We are an international data analysis consultancy company operating out of New York, NY, USA. \n<br>We have been hired by a restuaranteur who runs a successful Vegan Restaurant in NYC and they now wish to expand.\n<br>They need to know where they should expand - on the East Coast, West Coast or start overseas.\n\nThis report contains the data and evidence to support the new location based on a data driven approach using machine learning to discovering the most appropriate location for the customer based upon their provided initial city list.\n<br>To the restauranteur, more locations means business expansion and more profit since we will be offering the most similar city, which our belief will mean busy Vegan restaurant. Their current restaurant has reached capacity with no room to grow. The need to expand and wish to open is a city with similar restaurant demographics.", 
            "cell_type": "markdown", 
            "metadata": {}
        }, 
        {
            "source": "<a id='methodology'></a>\n# Methodology", 
            "cell_type": "markdown", 
            "metadata": {}
        }, 
        {
            "source": "Vegans 'R US, has a successful business which has been a consistent making money and is now physically constrained in New York City, NY location.\n<br>To build the business they need to expand and wish to use our analytics to provide a new location instead of picking a new location based on instinct.\n\nThey are currently in the center of Manhattan and they are stating that the suggested new location must be within a 1km radius of each city center. The cities of interest to them are :-\n\n* Montreal, QC, CA\n* Toronto, ON, CA\n* Boston, MA, USA\n* Atlanta, GA, USA\n* New Orleans, LA, USA\n* Seattle, WA, USA\n* Portland, OR, USA\n* San Diego, CA, USA\n* Los Angeles, CA, USA\n* Edinburgh, UK\n* Cardiff, UK\n* Bristol, UK\n* London, UK\n* Paris, FR\n\nGoal is to provide a restaurant food category based analysis of these cities and give back the most likely suitable for expansion into.\n\nFoursquare can offer venue information - one of the categories for which you can request data for is Food. This category is then subdivied into Food categories - pizza, sandwich, coffee etc.\n\nThis data can then be twisted into a dataframe and presented to the KNN algorithm to classify like cities. Unsupervised machine learning is perfect for these situation, take the data and label the like groups - in this case, which Cities are in the same group as New York, NY. The data twisting will consist of, code the Restaurant type 1 else 0, and take the mean by city, thus creating a density per restaurant type for each city.", 
            "cell_type": "markdown", 
            "metadata": {}
        }, 
        {
            "source": "<a id='results'></a>\n# Results", 
            "cell_type": "markdown", 
            "metadata": {}
        }, 
        {
            "source": "The goal of this project is to see how similar each of the defined cities is to New York.\n\nIf the current restaurant is successful in New York City then the assumption is it will be successful in a city center which like New York.\n\nNow let me define what LIKE means to our client. \n<br>Utilizing FourSquare and the Food CategoryID our consultants will extract restaurant information for each city center. Grouping the restaurants by there Sub CategoryID - Pizza, Sandwich, Bistro etc and building a dataframe of top 10 restaurant styles per city each with their count.\n\nThese Top10 per city center will then be used by the machine learning algorithm to suggest like cities.\n\ne.g. Sample Food Venue returned from -\n```\nhttps://api.foursquare.com/v2/venues/search?client_id=XXX&client_secret=XXX&ll=40.7149555,-74.0153365&v=20180604&categoryId=4d4b7105d754a06374d81259&radius=1000&limit=3\n```\n\nSample Response\n```\n{'id': '5accb33d2c7eb96824340d53',\n    'name': 'Seamore\u2019s',\n    'location': {'address': '230 Vesey St',\n     'lat': 40.71424164376645,\n     'lng': -74.01508537789734,\n     'labeledLatLngs': [{'label': 'display',\n       'lat': 40.71424164376645,\n       'lng': -74.01508537789734}],\n     'distance': 82,\n     'postalCode': '10285',\n     'cc': 'US',\n     'city': 'New York',\n     'state': 'NY',\n     'country': 'United States',\n     'formattedAddress': ['230 Vesey St',\n      'New York, NY 10285',\n      'United States']},\n    'categories': [{'id': '4bf58dd8d48988d1ce941735',\n      'name': 'Seafood Restaurant',\n      'pluralName': 'Seafood Restaurants',\n      'shortName': 'Seafood',\n      'icon': {'prefix': 'https://ss3.4sqi.net/img/categories_v2/food/seafood_',\n       'suffix': '.png'},\n      'primary': True}],\n    'delivery': {'id': '884804',\n     'url': 'https://www.seamless.com/menu/seamores-250-vesey-st-new-york/884804?affiliate=1131&utm_source=foursquare-affiliate-network&utm_medium=affiliate&utm_campaign=1131&utm_content=884804',\n     'provider': {'name': 'seamless',\n      'icon': {'prefix': 'https://fastly.4sqi.net/img/general/cap/',\n       'sizes': [40, 50],\n       'name': '/delivery_provider_seamless_20180129.png'}}},\n    'referralId': 'v-1545921117',\n    'hasPerk': False}\n```\n\nInteresting Features for us are the **categories** in the above sample case - **Seafood Restaurant**\n\nThe data are twisted to one row per city and a column for each Restaurant Cateogry. The value in each cell is the scaled quanity of that category of restaurant in that city.\n<img src=\"https://raw.githubusercontent.com/GraemeHutcheon/Coursera_Capstone/master/Screen%20Shot%202019-01-02%20at%202.39.24%20PM.jpg\" alt=\"Data Table\" style=\"width:40%;height:40%;\"> \n\nThe notebook which performed the analysis can be reviewed here - [link to notebook on github](https://github.com/GraemeHutcheon/Coursera_Capstone/blob/master/KNN%20World%20Analysis%20Vegan%20Res.ipynb \"GitHub Notebook\")\n\nThe data was then presented to the KNN alogrithm to understand which of the 14 cities are matched to New York City.\n\nThe answer returned is \n<img src=\"https://raw.githubusercontent.com/GraemeHutcheon/Coursera_Capstone/master/Screen%20Shot%202019-01-02%20at%202.09.24%20PM.jpg\" alt=\"Results Table\" style=\"width:20%;height:20%;\"> \n\nNote that **New York** has been group with **Cardiff, UK** based on the Restaurant Data.\n\nThis can also be represented as a map (Color dots tie the matching Cities together in like groups.)\n\n![Nice Image2](https://raw.githubusercontent.com/GraemeHutcheon/Coursera_Capstone/master/Screen%20Shot%202018-12-28%20at%2011.31.25%20AM.jpg)\n", 
            "cell_type": "markdown", 
            "metadata": {}
        }, 
        {
            "source": "<a id='discussion'></a>\n# Discussion", 
            "cell_type": "markdown", 
            "metadata": {}
        }, 
        {
            "source": "With the initial problem definition the client was clear that they wanted and needed to expand. They had 14 new cities they wished to consider. But how does a company choose the optimum city ? \n<br>When coming to us they realized that they needed to take the gut feeling out of the equation. By implementing an unsupervised machine learning algorithm we can perform the selection without human bias and purely on statistics.\n\n\nThey knew they were successful in New York, NY, therfore the goal is to find another city which is like New York, NY. Whilst there are many alogorithms which can find similarities we chose to use the tried and tested K Nearest Neighbor (KNN). This would allow us to pick multiple Ks and arrive at one which pick a small amount of new cities to go after. Since we are exanding within the Food business we can utilize the FourSquare Database to give us access to the restaurants within major cities. Thus allowing KNN to analyse and produce a report of cities which are most like New York, NY.\n\nWhen running KNN with K=5 the alogrithm returns one city worth exanding into - Cardiff, UK.\n\nWe were interested also in other options but interestingly using K=4 still only Cardiff, UK was grouped with New York, NY. It was only once K=3 was run we ended up with multiple options, but now we had 5 citys within this group - leading us to the conclusion - Cardiff is the correct answer and more analysis is required to pick less other contenders.\n", 
            "cell_type": "markdown", 
            "metadata": {}
        }, 
        {
            "source": "<a id='conclusion'></a>\n# Conclusion", 
            "cell_type": "markdown", 
            "metadata": {}
        }, 
        {
            "source": "The data clearly indicates that Vegans 'R US should open in Cardiff, UK based on the KNN Algorithm.\n\nIf you are interested in other option then further data selection is required - maybe homing into the Neighborhood or adding other key venues to our dataset or limiting the Food venues to specific speciality types.", 
            "cell_type": "markdown", 
            "metadata": {}
        }, 
        {
            "source": "<a id='housekeeping'></a>\n# References, Acknowledgements", 
            "cell_type": "markdown", 
            "metadata": {}
        }, 
        {
            "source": "1) Getting Started with Data Science, IBM Press, 1 edition (Dec 13 2015), Murtaza Haider", 
            "cell_type": "markdown", 
            "metadata": {}
        }
    ], 
    "metadata": {
        "kernelspec": {
            "display_name": "Python 3.5", 
            "name": "python3", 
            "language": "python"
        }, 
        "language_info": {
            "mimetype": "text/x-python", 
            "nbconvert_exporter": "python", 
            "version": "3.5.5", 
            "name": "python", 
            "file_extension": ".py", 
            "pygments_lexer": "ipython3", 
            "codemirror_mode": {
                "version": 3, 
                "name": "ipython"
            }
        }
    }, 
    "nbformat": 4
}