{
    "nbformat_minor": 1, 
    "cells": [
        {
            "source": "# Import the Libraries Needed", 
            "cell_type": "markdown", 
            "metadata": {}
        }, 
        {
            "source": "import pandas as pd\nimport numpy as np\n\nfrom bs4 import BeautifulSoup\nimport requests\n\nr  = requests.get(\"https://en.wikipedia.org/wiki/List_of_postal_codes_of_Canada:_M\")\n\ndata = r.text\n\nsoup = BeautifulSoup(data, 'html.parser')", 
            "cell_type": "code", 
            "metadata": {}, 
            "outputs": [], 
            "execution_count": 6
        }, 
        {
            "source": "# Go Grab the table and pull the pieces out with Soup\n\nFind the useful table\nWork through each row\n    - If the row has Not Assigned as a Borough - move on\n    - If the row has no Neighborhood but a Borough - copy the Neighborhood\nSave the dict into a dataframe\n\nNow we have a dataframe but multiple rows per PostalCode and Borough", 
            "cell_type": "markdown", 
            "metadata": {}
        }, 
        {
            "source": "table = soup.find( \"table\", {\"class\":\"wikitable sortable\"} )\n\ntd = table.findAll('tr')[1:]\n\nhoods = []\n\nfor data in td:\n    col = data.find_all('td')\n    details = {}\n    for i,col in enumerate(col):\n        if i == 1:\n            details['Borough'] = (col.text.replace('\\n',''))\n            if details['Borough'] == 'Not assigned':\n                break\n        if i == 0:\n            details['PostalCode'] = (col.text.replace('\\n',''))\n        if i == 2: \n            details['Neighborhood'] = (col.text.replace('\\n',''))\n            if details['Neighborhood'] == 'Not assigned':\n                details['Neighborhood'] = details['Borough']\n            hoods.append(details)\n\ndf=pd.DataFrame(hoods)\ndf=df[['PostalCode','Borough','Neighborhood']]\ndf.head()", 
            "cell_type": "code", 
            "metadata": {
                "scrolled": true
            }, 
            "outputs": [
                {
                    "output_type": "execute_result", 
                    "data": {
                        "text/plain": "  PostalCode           Borough      Neighborhood\n0        M3A        North York         Parkwoods\n1        M4A        North York  Victoria Village\n2        M5A  Downtown Toronto      Harbourfront\n3        M5A  Downtown Toronto       Regent Park\n4        M6A        North York  Lawrence Heights", 
                        "text/html": "<div>\n<style scoped>\n    .dataframe tbody tr th:only-of-type {\n        vertical-align: middle;\n    }\n\n    .dataframe tbody tr th {\n        vertical-align: top;\n    }\n\n    .dataframe thead th {\n        text-align: right;\n    }\n</style>\n<table border=\"1\" class=\"dataframe\">\n  <thead>\n    <tr style=\"text-align: right;\">\n      <th></th>\n      <th>PostalCode</th>\n      <th>Borough</th>\n      <th>Neighborhood</th>\n    </tr>\n  </thead>\n  <tbody>\n    <tr>\n      <th>0</th>\n      <td>M3A</td>\n      <td>North York</td>\n      <td>Parkwoods</td>\n    </tr>\n    <tr>\n      <th>1</th>\n      <td>M4A</td>\n      <td>North York</td>\n      <td>Victoria Village</td>\n    </tr>\n    <tr>\n      <th>2</th>\n      <td>M5A</td>\n      <td>Downtown Toronto</td>\n      <td>Harbourfront</td>\n    </tr>\n    <tr>\n      <th>3</th>\n      <td>M5A</td>\n      <td>Downtown Toronto</td>\n      <td>Regent Park</td>\n    </tr>\n    <tr>\n      <th>4</th>\n      <td>M6A</td>\n      <td>North York</td>\n      <td>Lawrence Heights</td>\n    </tr>\n  </tbody>\n</table>\n</div>"
                    }, 
                    "execution_count": 8, 
                    "metadata": {}
                }
            ], 
            "execution_count": 8
        }, 
        {
            "source": "# Use Group by to do the work of concatinating the like Boroughs together", 
            "cell_type": "markdown", 
            "metadata": {}
        }, 
        {
            "source": "dfn=df.groupby(['PostalCode','Borough'])['Neighborhood'].apply(','.join).reset_index()\ndfn.head()", 
            "cell_type": "code", 
            "metadata": {}, 
            "outputs": [
                {
                    "output_type": "execute_result", 
                    "data": {
                        "text/plain": "  PostalCode      Borough                          Neighborhood\n0        M1B  Scarborough                         Rouge,Malvern\n1        M1C  Scarborough  Highland Creek,Rouge Hill,Port Union\n2        M1E  Scarborough       Guildwood,Morningside,West Hill\n3        M1G  Scarborough                                Woburn\n4        M1H  Scarborough                             Cedarbrae", 
                        "text/html": "<div>\n<style scoped>\n    .dataframe tbody tr th:only-of-type {\n        vertical-align: middle;\n    }\n\n    .dataframe tbody tr th {\n        vertical-align: top;\n    }\n\n    .dataframe thead th {\n        text-align: right;\n    }\n</style>\n<table border=\"1\" class=\"dataframe\">\n  <thead>\n    <tr style=\"text-align: right;\">\n      <th></th>\n      <th>PostalCode</th>\n      <th>Borough</th>\n      <th>Neighborhood</th>\n    </tr>\n  </thead>\n  <tbody>\n    <tr>\n      <th>0</th>\n      <td>M1B</td>\n      <td>Scarborough</td>\n      <td>Rouge,Malvern</td>\n    </tr>\n    <tr>\n      <th>1</th>\n      <td>M1C</td>\n      <td>Scarborough</td>\n      <td>Highland Creek,Rouge Hill,Port Union</td>\n    </tr>\n    <tr>\n      <th>2</th>\n      <td>M1E</td>\n      <td>Scarborough</td>\n      <td>Guildwood,Morningside,West Hill</td>\n    </tr>\n    <tr>\n      <th>3</th>\n      <td>M1G</td>\n      <td>Scarborough</td>\n      <td>Woburn</td>\n    </tr>\n    <tr>\n      <th>4</th>\n      <td>M1H</td>\n      <td>Scarborough</td>\n      <td>Cedarbrae</td>\n    </tr>\n  </tbody>\n</table>\n</div>"
                    }, 
                    "execution_count": 9, 
                    "metadata": {}
                }
            ], 
            "execution_count": 9
        }, 
        {
            "source": "# Displaying the Shape of the Final Dataset", 
            "cell_type": "markdown", 
            "metadata": {}
        }, 
        {
            "source": "dfn.shape", 
            "cell_type": "code", 
            "metadata": {
                "scrolled": true
            }, 
            "outputs": [
                {
                    "output_type": "execute_result", 
                    "data": {
                        "text/plain": "(103, 3)"
                    }, 
                    "execution_count": 10, 
                    "metadata": {}
                }
            ], 
            "execution_count": 10
        }, 
        {
            "source": "# Adding GEO data\n\nDowload spreadsheet into dataframe\nThe URL is dynamic and needs to be updated daily", 
            "cell_type": "markdown", 
            "metadata": {}
        }, 
        {
            "source": "geo_data=pd.read_csv('https://dl.boxcloud.com/d/1/b1!2lc7tg9l4YiRIXBCc-QdycOyiD_FIYAsOd26x3wFGTyqbbXdnUrX289dnA2uiT-45wE2VvzguVqOeSObWZuiP8-aNGyfublsgfeATMzEnLxc6rQIRpC8jHY7kZcyOWXskLXf6Ov8RRDlw8SvBYwneLF-32VAXJxBFIKBUatXnldl9xKiNTmfpdXonkTo18NVkj97-PxHehLcRq2wOcidVg_Crzz2Fobhecf7DbUIC8HhY4T1LJHKEpmVMW3VMGZziHhUGhh8z_G17t38Xamc_tofFvnF9tuPWtLKOdwKfLo9e8Khk1oWeq721PRJR_rH-dqnzeZHPySMbgRgKOhz_9ZUjfQZQg3x7IyMaJsJZfvx3w3pfSMFbOEvFUeJyu6yhM9bpBpRdwi8CP4jUM5S41IWFvQ576EecnpIBZ90kWtmYFqNWCHJZHDG2dUSSAUPHa01ZJEdHooDFpzpYkpiE1ARLkTrGWXrO_jj3zY8MS5mPsMbaDq7G4Mwi2kUggswbL10Jst37L12xBBthLqCsJbn10rjrpWtHmnvrNWoD_yyzwxIhEZlDfjN1qOOng4LFUfIy1BztL3JzKmbBY8i6_OPJ_0wkCJ4QEWJWb4zp2kzpQ2m3YnPqPXSRFszeosPPTC8fBJLopLmM32CWT_G-l9l7HlTA0Lw7sFRFG0HtikMx4yA5lXZe34t3veB36u2KpHJtNjVAnPkgQj3zcngPy1th38JRG0_fPFYmIVC9QNazMQBn1CSqR-aqQopHkVJNkUVI2eA1JY1Mj1iwqTaNuUqS12aHVzqgtEkTn6BRKSqWRKY_uHa_NJTuWkVCgk7yMswEsPLiAJlb_xbY3dMn2tIVZKE7rPtU9baM4ZpTydaGXEAdCVpyJqXmE7-KPjCIVT7qqzu75slxphLrCsTt9HPG9EgEfk2PY1WSz0K0w2OUDoCNiwTK5bvBvUlx7iwuEnCGFnkZzx5R2jgpErF-uvxoZinnr6ArywDrKESukR5keHPERvH1v84Hw3dQZ2dXBHVi7_YL7hp65ZsFbHO1egi3V4GqDcQ7knyNWl7PTPxB73YOOCXA47cR4JZHpx_Ea48E56OLtxV71FCyfkO7apYOlWlhPzCGfwO3Mm3XXgIxd-O4zNgu5yx-dOtLZmGez5eGjs2-7qzPc9Bf46OIMor7uTRNNAHhMggyMW8Zw0MwJhrQ_rwCcthQgPhfdpSwhKfLtIE7n2kUxPXbBsIZkd0h6eLxwI3dvvkvqfXb8bG0gpdXOlqk7EtsochJxK0knkWiulIQ9VPtJpLZ_y9VYDzcp1XZy_a8Heukx3v1HC0PWpjWUU4GHaW703qz8uKg-HAreMx76jtycqkaWqJ5ymeTBLMRQ6VFxb7ZL9yeqLkafr8e9txCGtMBZSb/download')\nprint(geo_data.shape)\ngeo_data.head()", 
            "cell_type": "code", 
            "metadata": {
                "scrolled": false
            }, 
            "outputs": [
                {
                    "output_type": "stream", 
                    "name": "stdout", 
                    "text": "(103, 3)\n"
                }, 
                {
                    "output_type": "execute_result", 
                    "data": {
                        "text/plain": "  Postal Code   Latitude  Longitude\n0         M1B  43.806686 -79.194353\n1         M1C  43.784535 -79.160497\n2         M1E  43.763573 -79.188711\n3         M1G  43.770992 -79.216917\n4         M1H  43.773136 -79.239476", 
                        "text/html": "<div>\n<style scoped>\n    .dataframe tbody tr th:only-of-type {\n        vertical-align: middle;\n    }\n\n    .dataframe tbody tr th {\n        vertical-align: top;\n    }\n\n    .dataframe thead th {\n        text-align: right;\n    }\n</style>\n<table border=\"1\" class=\"dataframe\">\n  <thead>\n    <tr style=\"text-align: right;\">\n      <th></th>\n      <th>Postal Code</th>\n      <th>Latitude</th>\n      <th>Longitude</th>\n    </tr>\n  </thead>\n  <tbody>\n    <tr>\n      <th>0</th>\n      <td>M1B</td>\n      <td>43.806686</td>\n      <td>-79.194353</td>\n    </tr>\n    <tr>\n      <th>1</th>\n      <td>M1C</td>\n      <td>43.784535</td>\n      <td>-79.160497</td>\n    </tr>\n    <tr>\n      <th>2</th>\n      <td>M1E</td>\n      <td>43.763573</td>\n      <td>-79.188711</td>\n    </tr>\n    <tr>\n      <th>3</th>\n      <td>M1G</td>\n      <td>43.770992</td>\n      <td>-79.216917</td>\n    </tr>\n    <tr>\n      <th>4</th>\n      <td>M1H</td>\n      <td>43.773136</td>\n      <td>-79.239476</td>\n    </tr>\n  </tbody>\n</table>\n</div>"
                    }, 
                    "execution_count": 12, 
                    "metadata": {}
                }
            ], 
            "execution_count": 12
        }, 
        {
            "source": "# Using the SQL like Pandas MERGE feature\nJoin the two datasets together\n\nKeep all rows from the Wikipedia Page and bring in the locations from the loaded CSV", 
            "cell_type": "markdown", 
            "metadata": {}
        }, 
        {
            "source": "alldata=pd.merge(dfn, geo_data, how='left', left_on=['PostalCode'], right_on=['Postal Code'],\n         left_index=False, right_index=False, sort=True,\n         suffixes=('_x', '_y'), copy=True, indicator=False,\n         validate=None)\nprint(alldata.shape)\nalldata.head()", 
            "cell_type": "code", 
            "metadata": {}, 
            "outputs": [
                {
                    "output_type": "stream", 
                    "name": "stdout", 
                    "text": "(103, 6)\n"
                }, 
                {
                    "output_type": "execute_result", 
                    "data": {
                        "text/plain": "  PostalCode      Borough                          Neighborhood Postal Code  \\\n0        M1B  Scarborough                         Rouge,Malvern         M1B   \n1        M1C  Scarborough  Highland Creek,Rouge Hill,Port Union         M1C   \n2        M1E  Scarborough       Guildwood,Morningside,West Hill         M1E   \n3        M1G  Scarborough                                Woburn         M1G   \n4        M1H  Scarborough                             Cedarbrae         M1H   \n\n    Latitude  Longitude  \n0  43.806686 -79.194353  \n1  43.784535 -79.160497  \n2  43.763573 -79.188711  \n3  43.770992 -79.216917  \n4  43.773136 -79.239476  ", 
                        "text/html": "<div>\n<style scoped>\n    .dataframe tbody tr th:only-of-type {\n        vertical-align: middle;\n    }\n\n    .dataframe tbody tr th {\n        vertical-align: top;\n    }\n\n    .dataframe thead th {\n        text-align: right;\n    }\n</style>\n<table border=\"1\" class=\"dataframe\">\n  <thead>\n    <tr style=\"text-align: right;\">\n      <th></th>\n      <th>PostalCode</th>\n      <th>Borough</th>\n      <th>Neighborhood</th>\n      <th>Postal Code</th>\n      <th>Latitude</th>\n      <th>Longitude</th>\n    </tr>\n  </thead>\n  <tbody>\n    <tr>\n      <th>0</th>\n      <td>M1B</td>\n      <td>Scarborough</td>\n      <td>Rouge,Malvern</td>\n      <td>M1B</td>\n      <td>43.806686</td>\n      <td>-79.194353</td>\n    </tr>\n    <tr>\n      <th>1</th>\n      <td>M1C</td>\n      <td>Scarborough</td>\n      <td>Highland Creek,Rouge Hill,Port Union</td>\n      <td>M1C</td>\n      <td>43.784535</td>\n      <td>-79.160497</td>\n    </tr>\n    <tr>\n      <th>2</th>\n      <td>M1E</td>\n      <td>Scarborough</td>\n      <td>Guildwood,Morningside,West Hill</td>\n      <td>M1E</td>\n      <td>43.763573</td>\n      <td>-79.188711</td>\n    </tr>\n    <tr>\n      <th>3</th>\n      <td>M1G</td>\n      <td>Scarborough</td>\n      <td>Woburn</td>\n      <td>M1G</td>\n      <td>43.770992</td>\n      <td>-79.216917</td>\n    </tr>\n    <tr>\n      <th>4</th>\n      <td>M1H</td>\n      <td>Scarborough</td>\n      <td>Cedarbrae</td>\n      <td>M1H</td>\n      <td>43.773136</td>\n      <td>-79.239476</td>\n    </tr>\n  </tbody>\n</table>\n</div>"
                    }, 
                    "execution_count": 14, 
                    "metadata": {}
                }
            ], 
            "execution_count": 14
        }
    ], 
    "metadata": {
        "kernelspec": {
            "display_name": "Python 3.5", 
            "name": "python3", 
            "language": "python"
        }, 
        "language_info": {
            "mimetype": "text/x-python", 
            "nbconvert_exporter": "python", 
            "version": "3.5.5", 
            "name": "python", 
            "pygments_lexer": "ipython3", 
            "file_extension": ".py", 
            "codemirror_mode": {
                "version": 3, 
                "name": "ipython"
            }
        }
    }, 
    "nbformat": 4
}